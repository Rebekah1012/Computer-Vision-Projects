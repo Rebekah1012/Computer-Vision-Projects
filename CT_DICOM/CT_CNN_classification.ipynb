{
  "nbformat": 4,
  "nbformat_minor": 0,
  "metadata": {
    "colab": {
      "name": "CT_CNN_classification.ipynb",
      "provenance": []
    },
    "kernelspec": {
      "name": "python3",
      "display_name": "Python 3"
    },
    "language_info": {
      "name": "python"
    }
  },
  "cells": [
    {
      "cell_type": "code",
      "metadata": {
        "id": "8CyhZ1X7J3vD"
      },
      "source": [
        "import numpy as np\n",
        "import pandas as pd\n",
        "import os\n",
        "import re\n",
        "from skimage import io\n",
        "import matplotlib.pyplot as plt\n",
        "import seaborn as sns\n",
        "from glob import glob\n",
        "import keras\n",
        "%matplotlib inline"
      ],
      "execution_count": 1,
      "outputs": []
    },
    {
      "cell_type": "code",
      "metadata": {
        "colab": {
          "base_uri": "https://localhost:8080/"
        },
        "id": "4oGkQKcKKh7X",
        "outputId": "36f4526d-8fb6-41b1-8153-536912f7688f"
      },
      "source": [
        "for dir,_, files in os.walk('/content/drive/MyDrive/Datasets/CT_MedicalImages'):\n",
        "  print(dir)\n",
        "  for filename in files:\n",
        "    print(os.path.join(dir, filename))"
      ],
      "execution_count": 2,
      "outputs": [
        {
          "output_type": "stream",
          "text": [
            "/content/drive/MyDrive/Datasets/CT_MedicalImages\n",
            "/content/drive/MyDrive/Datasets/CT_MedicalImages/full_archive.npz\n",
            "/content/drive/MyDrive/Datasets/CT_MedicalImages/overview.csv\n",
            "/content/drive/MyDrive/Datasets/CT_MedicalImages/Visualizing.py\n",
            "/content/drive/MyDrive/Datasets/CT_MedicalImages/tiff_images\n",
            "/content/drive/MyDrive/Datasets/CT_MedicalImages/tiff_images/ID_0001_AGE_0069_CONTRAST_1_CT.tif\n",
            "/content/drive/MyDrive/Datasets/CT_MedicalImages/tiff_images/ID_0000_AGE_0060_CONTRAST_1_CT.tif\n",
            "/content/drive/MyDrive/Datasets/CT_MedicalImages/tiff_images/ID_0006_AGE_0075_CONTRAST_1_CT.tif\n",
            "/content/drive/MyDrive/Datasets/CT_MedicalImages/tiff_images/ID_0002_AGE_0074_CONTRAST_1_CT.tif\n",
            "/content/drive/MyDrive/Datasets/CT_MedicalImages/tiff_images/ID_0007_AGE_0061_CONTRAST_1_CT.tif\n",
            "/content/drive/MyDrive/Datasets/CT_MedicalImages/tiff_images/ID_0004_AGE_0056_CONTRAST_1_CT.tif\n",
            "/content/drive/MyDrive/Datasets/CT_MedicalImages/tiff_images/ID_0005_AGE_0048_CONTRAST_1_CT.tif\n",
            "/content/drive/MyDrive/Datasets/CT_MedicalImages/tiff_images/ID_0003_AGE_0075_CONTRAST_1_CT.tif\n",
            "/content/drive/MyDrive/Datasets/CT_MedicalImages/tiff_images/ID_0008_AGE_0051_CONTRAST_1_CT.tif\n",
            "/content/drive/MyDrive/Datasets/CT_MedicalImages/tiff_images/ID_0017_AGE_0060_CONTRAST_1_CT.tif\n",
            "/content/drive/MyDrive/Datasets/CT_MedicalImages/tiff_images/ID_0019_AGE_0070_CONTRAST_1_CT.tif\n",
            "/content/drive/MyDrive/Datasets/CT_MedicalImages/tiff_images/ID_0015_AGE_0061_CONTRAST_1_CT.tif\n",
            "/content/drive/MyDrive/Datasets/CT_MedicalImages/tiff_images/ID_0012_AGE_0061_CONTRAST_1_CT.tif\n",
            "/content/drive/MyDrive/Datasets/CT_MedicalImages/tiff_images/ID_0013_AGE_0060_CONTRAST_1_CT.tif\n",
            "/content/drive/MyDrive/Datasets/CT_MedicalImages/tiff_images/ID_0016_AGE_0063_CONTRAST_1_CT.tif\n",
            "/content/drive/MyDrive/Datasets/CT_MedicalImages/tiff_images/ID_0010_AGE_0060_CONTRAST_1_CT.tif\n",
            "/content/drive/MyDrive/Datasets/CT_MedicalImages/tiff_images/ID_0009_AGE_0048_CONTRAST_1_CT.tif\n",
            "/content/drive/MyDrive/Datasets/CT_MedicalImages/tiff_images/ID_0014_AGE_0071_CONTRAST_1_CT.tif\n",
            "/content/drive/MyDrive/Datasets/CT_MedicalImages/tiff_images/ID_0020_AGE_0066_CONTRAST_1_CT.tif\n",
            "/content/drive/MyDrive/Datasets/CT_MedicalImages/tiff_images/ID_0018_AGE_0074_CONTRAST_1_CT.tif\n",
            "/content/drive/MyDrive/Datasets/CT_MedicalImages/tiff_images/ID_0011_AGE_0061_CONTRAST_1_CT.tif\n",
            "/content/drive/MyDrive/Datasets/CT_MedicalImages/tiff_images/ID_0026_AGE_0070_CONTRAST_1_CT.tif\n",
            "/content/drive/MyDrive/Datasets/CT_MedicalImages/tiff_images/ID_0022_AGE_0074_CONTRAST_1_CT.tif\n",
            "/content/drive/MyDrive/Datasets/CT_MedicalImages/tiff_images/ID_0025_AGE_0074_CONTRAST_1_CT.tif\n",
            "/content/drive/MyDrive/Datasets/CT_MedicalImages/tiff_images/ID_0023_AGE_0061_CONTRAST_1_CT.tif\n",
            "/content/drive/MyDrive/Datasets/CT_MedicalImages/tiff_images/ID_0027_AGE_0064_CONTRAST_1_CT.tif\n",
            "/content/drive/MyDrive/Datasets/CT_MedicalImages/tiff_images/ID_0021_AGE_0067_CONTRAST_1_CT.tif\n",
            "/content/drive/MyDrive/Datasets/CT_MedicalImages/tiff_images/ID_0024_AGE_0060_CONTRAST_1_CT.tif\n",
            "/content/drive/MyDrive/Datasets/CT_MedicalImages/tiff_images/ID_0031_AGE_0039_CONTRAST_1_CT.tif\n",
            "/content/drive/MyDrive/Datasets/CT_MedicalImages/tiff_images/ID_0028_AGE_0074_CONTRAST_1_CT.tif\n",
            "/content/drive/MyDrive/Datasets/CT_MedicalImages/tiff_images/ID_0029_AGE_0078_CONTRAST_1_CT.tif\n",
            "/content/drive/MyDrive/Datasets/CT_MedicalImages/tiff_images/ID_0030_AGE_0076_CONTRAST_1_CT.tif\n",
            "/content/drive/MyDrive/Datasets/CT_MedicalImages/tiff_images/ID_0041_AGE_0045_CONTRAST_1_CT.tif\n",
            "/content/drive/MyDrive/Datasets/CT_MedicalImages/tiff_images/ID_0035_AGE_0059_CONTRAST_1_CT.tif\n",
            "/content/drive/MyDrive/Datasets/CT_MedicalImages/tiff_images/ID_0033_AGE_0071_CONTRAST_1_CT.tif\n",
            "/content/drive/MyDrive/Datasets/CT_MedicalImages/tiff_images/ID_0036_AGE_0074_CONTRAST_1_CT.tif\n",
            "/content/drive/MyDrive/Datasets/CT_MedicalImages/tiff_images/ID_0032_AGE_0061_CONTRAST_1_CT.tif\n",
            "/content/drive/MyDrive/Datasets/CT_MedicalImages/tiff_images/ID_0034_AGE_0061_CONTRAST_1_CT.tif\n",
            "/content/drive/MyDrive/Datasets/CT_MedicalImages/tiff_images/ID_0042_AGE_0071_CONTRAST_1_CT.tif\n",
            "/content/drive/MyDrive/Datasets/CT_MedicalImages/tiff_images/ID_0038_AGE_0071_CONTRAST_1_CT.tif\n",
            "/content/drive/MyDrive/Datasets/CT_MedicalImages/tiff_images/ID_0043_AGE_0069_CONTRAST_1_CT.tif\n",
            "/content/drive/MyDrive/Datasets/CT_MedicalImages/tiff_images/ID_0039_AGE_0074_CONTRAST_1_CT.tif\n",
            "/content/drive/MyDrive/Datasets/CT_MedicalImages/tiff_images/ID_0037_AGE_0074_CONTRAST_1_CT.tif\n",
            "/content/drive/MyDrive/Datasets/CT_MedicalImages/tiff_images/ID_0040_AGE_0069_CONTRAST_1_CT.tif\n",
            "/content/drive/MyDrive/Datasets/CT_MedicalImages/tiff_images/ID_0053_AGE_0073_CONTRAST_0_CT.tif\n",
            "/content/drive/MyDrive/Datasets/CT_MedicalImages/tiff_images/ID_0046_AGE_0072_CONTRAST_1_CT.tif\n",
            "/content/drive/MyDrive/Datasets/CT_MedicalImages/tiff_images/ID_0045_AGE_0074_CONTRAST_1_CT.tif\n",
            "/content/drive/MyDrive/Datasets/CT_MedicalImages/tiff_images/ID_0051_AGE_0063_CONTRAST_0_CT.tif\n",
            "/content/drive/MyDrive/Datasets/CT_MedicalImages/tiff_images/ID_0049_AGE_0061_CONTRAST_1_CT.tif\n",
            "/content/drive/MyDrive/Datasets/CT_MedicalImages/tiff_images/ID_0052_AGE_0072_CONTRAST_0_CT.tif\n",
            "/content/drive/MyDrive/Datasets/CT_MedicalImages/tiff_images/ID_0048_AGE_0077_CONTRAST_1_CT.tif\n",
            "/content/drive/MyDrive/Datasets/CT_MedicalImages/tiff_images/ID_0050_AGE_0074_CONTRAST_0_CT.tif\n",
            "/content/drive/MyDrive/Datasets/CT_MedicalImages/tiff_images/ID_0044_AGE_0072_CONTRAST_1_CT.tif\n",
            "/content/drive/MyDrive/Datasets/CT_MedicalImages/tiff_images/ID_0054_AGE_0082_CONTRAST_0_CT.tif\n",
            "/content/drive/MyDrive/Datasets/CT_MedicalImages/tiff_images/ID_0047_AGE_0069_CONTRAST_1_CT.tif\n",
            "/content/drive/MyDrive/Datasets/CT_MedicalImages/tiff_images/ID_0064_AGE_0058_CONTRAST_0_CT.tif\n",
            "/content/drive/MyDrive/Datasets/CT_MedicalImages/tiff_images/ID_0062_AGE_0067_CONTRAST_0_CT.tif\n",
            "/content/drive/MyDrive/Datasets/CT_MedicalImages/tiff_images/ID_0057_AGE_0049_CONTRAST_0_CT.tif\n",
            "/content/drive/MyDrive/Datasets/CT_MedicalImages/tiff_images/ID_0066_AGE_0082_CONTRAST_0_CT.tif\n",
            "/content/drive/MyDrive/Datasets/CT_MedicalImages/tiff_images/ID_0058_AGE_0082_CONTRAST_0_CT.tif\n",
            "/content/drive/MyDrive/Datasets/CT_MedicalImages/tiff_images/ID_0060_AGE_0080_CONTRAST_0_CT.tif\n",
            "/content/drive/MyDrive/Datasets/CT_MedicalImages/tiff_images/ID_0061_AGE_0074_CONTRAST_0_CT.tif\n",
            "/content/drive/MyDrive/Datasets/CT_MedicalImages/tiff_images/ID_0055_AGE_0071_CONTRAST_0_CT.tif\n",
            "/content/drive/MyDrive/Datasets/CT_MedicalImages/tiff_images/ID_0063_AGE_0073_CONTRAST_0_CT.tif\n",
            "/content/drive/MyDrive/Datasets/CT_MedicalImages/tiff_images/ID_0065_AGE_0082_CONTRAST_0_CT.tif\n",
            "/content/drive/MyDrive/Datasets/CT_MedicalImages/tiff_images/ID_0059_AGE_0074_CONTRAST_0_CT.tif\n",
            "/content/drive/MyDrive/Datasets/CT_MedicalImages/tiff_images/ID_0056_AGE_0083_CONTRAST_0_CT.tif\n",
            "/content/drive/MyDrive/Datasets/CT_MedicalImages/tiff_images/ID_0074_AGE_0074_CONTRAST_0_CT.tif\n",
            "/content/drive/MyDrive/Datasets/CT_MedicalImages/tiff_images/ID_0071_AGE_0065_CONTRAST_0_CT.tif\n",
            "/content/drive/MyDrive/Datasets/CT_MedicalImages/tiff_images/ID_0072_AGE_0060_CONTRAST_0_CT.tif\n",
            "/content/drive/MyDrive/Datasets/CT_MedicalImages/tiff_images/ID_0078_AGE_0066_CONTRAST_0_CT.tif\n",
            "/content/drive/MyDrive/Datasets/CT_MedicalImages/tiff_images/ID_0068_AGE_0072_CONTRAST_0_CT.tif\n",
            "/content/drive/MyDrive/Datasets/CT_MedicalImages/tiff_images/ID_0069_AGE_0074_CONTRAST_0_CT.tif\n",
            "/content/drive/MyDrive/Datasets/CT_MedicalImages/tiff_images/ID_0076_AGE_0068_CONTRAST_0_CT.tif\n",
            "/content/drive/MyDrive/Datasets/CT_MedicalImages/tiff_images/ID_0070_AGE_0074_CONTRAST_0_CT.tif\n",
            "/content/drive/MyDrive/Datasets/CT_MedicalImages/tiff_images/ID_0067_AGE_0060_CONTRAST_0_CT.tif\n",
            "/content/drive/MyDrive/Datasets/CT_MedicalImages/tiff_images/ID_0073_AGE_0074_CONTRAST_0_CT.tif\n",
            "/content/drive/MyDrive/Datasets/CT_MedicalImages/tiff_images/ID_0077_AGE_0074_CONTRAST_0_CT.tif\n",
            "/content/drive/MyDrive/Datasets/CT_MedicalImages/tiff_images/ID_0075_AGE_0080_CONTRAST_0_CT.tif\n",
            "/content/drive/MyDrive/Datasets/CT_MedicalImages/tiff_images/ID_0086_AGE_0073_CONTRAST_0_CT.tif\n",
            "/content/drive/MyDrive/Datasets/CT_MedicalImages/tiff_images/ID_0079_AGE_0071_CONTRAST_0_CT.tif\n",
            "/content/drive/MyDrive/Datasets/CT_MedicalImages/tiff_images/ID_0080_AGE_0070_CONTRAST_0_CT.tif\n",
            "/content/drive/MyDrive/Datasets/CT_MedicalImages/tiff_images/ID_0089_AGE_0071_CONTRAST_0_CT.tif\n",
            "/content/drive/MyDrive/Datasets/CT_MedicalImages/tiff_images/ID_0082_AGE_0047_CONTRAST_0_CT.tif\n",
            "/content/drive/MyDrive/Datasets/CT_MedicalImages/tiff_images/ID_0087_AGE_0044_CONTRAST_0_CT.tif\n",
            "/content/drive/MyDrive/Datasets/CT_MedicalImages/tiff_images/ID_0085_AGE_0067_CONTRAST_0_CT.tif\n",
            "/content/drive/MyDrive/Datasets/CT_MedicalImages/tiff_images/ID_0084_AGE_0067_CONTRAST_0_CT.tif\n",
            "/content/drive/MyDrive/Datasets/CT_MedicalImages/tiff_images/ID_0088_AGE_0067_CONTRAST_0_CT.tif\n",
            "/content/drive/MyDrive/Datasets/CT_MedicalImages/tiff_images/ID_0083_AGE_0082_CONTRAST_0_CT.tif\n",
            "/content/drive/MyDrive/Datasets/CT_MedicalImages/tiff_images/ID_0081_AGE_0058_CONTRAST_0_CT.tif\n",
            "/content/drive/MyDrive/Datasets/CT_MedicalImages/tiff_images/ID_0095_AGE_0071_CONTRAST_0_CT.tif\n",
            "/content/drive/MyDrive/Datasets/CT_MedicalImages/tiff_images/ID_0093_AGE_0067_CONTRAST_0_CT.tif\n",
            "/content/drive/MyDrive/Datasets/CT_MedicalImages/tiff_images/ID_0091_AGE_0072_CONTRAST_0_CT.tif\n",
            "/content/drive/MyDrive/Datasets/CT_MedicalImages/tiff_images/ID_0094_AGE_0052_CONTRAST_0_CT.tif\n",
            "/content/drive/MyDrive/Datasets/CT_MedicalImages/tiff_images/ID_0098_AGE_0061_CONTRAST_0_CT.tif\n",
            "/content/drive/MyDrive/Datasets/CT_MedicalImages/tiff_images/ID_0096_AGE_0083_CONTRAST_0_CT.tif\n",
            "/content/drive/MyDrive/Datasets/CT_MedicalImages/tiff_images/ID_0090_AGE_0067_CONTRAST_0_CT.tif\n",
            "/content/drive/MyDrive/Datasets/CT_MedicalImages/tiff_images/ID_0097_AGE_0060_CONTRAST_0_CT.tif\n",
            "/content/drive/MyDrive/Datasets/CT_MedicalImages/tiff_images/ID_0092_AGE_0072_CONTRAST_0_CT.tif\n",
            "/content/drive/MyDrive/Datasets/CT_MedicalImages/tiff_images/ID_0099_AGE_0061_CONTRAST_0_CT.tif\n",
            "/content/drive/MyDrive/Datasets/CT_MedicalImages/dicom_dir\n",
            "/content/drive/MyDrive/Datasets/CT_MedicalImages/dicom_dir/ID_0000_AGE_0060_CONTRAST_1_CT.dcm\n",
            "/content/drive/MyDrive/Datasets/CT_MedicalImages/dicom_dir/ID_0015_AGE_0061_CONTRAST_1_CT.dcm\n",
            "/content/drive/MyDrive/Datasets/CT_MedicalImages/dicom_dir/ID_0019_AGE_0070_CONTRAST_1_CT.dcm\n",
            "/content/drive/MyDrive/Datasets/CT_MedicalImages/dicom_dir/ID_0006_AGE_0075_CONTRAST_1_CT.dcm\n",
            "/content/drive/MyDrive/Datasets/CT_MedicalImages/dicom_dir/ID_0017_AGE_0060_CONTRAST_1_CT.dcm\n",
            "/content/drive/MyDrive/Datasets/CT_MedicalImages/dicom_dir/ID_0022_AGE_0074_CONTRAST_1_CT.dcm\n",
            "/content/drive/MyDrive/Datasets/CT_MedicalImages/dicom_dir/ID_0026_AGE_0070_CONTRAST_1_CT.dcm\n",
            "/content/drive/MyDrive/Datasets/CT_MedicalImages/dicom_dir/ID_0012_AGE_0061_CONTRAST_1_CT.dcm\n",
            "/content/drive/MyDrive/Datasets/CT_MedicalImages/dicom_dir/ID_0024_AGE_0060_CONTRAST_1_CT.dcm\n",
            "/content/drive/MyDrive/Datasets/CT_MedicalImages/dicom_dir/ID_0014_AGE_0071_CONTRAST_1_CT.dcm\n",
            "/content/drive/MyDrive/Datasets/CT_MedicalImages/dicom_dir/ID_0008_AGE_0051_CONTRAST_1_CT.dcm\n",
            "/content/drive/MyDrive/Datasets/CT_MedicalImages/dicom_dir/ID_0010_AGE_0060_CONTRAST_1_CT.dcm\n",
            "/content/drive/MyDrive/Datasets/CT_MedicalImages/dicom_dir/ID_0009_AGE_0048_CONTRAST_1_CT.dcm\n",
            "/content/drive/MyDrive/Datasets/CT_MedicalImages/dicom_dir/ID_0011_AGE_0061_CONTRAST_1_CT.dcm\n",
            "/content/drive/MyDrive/Datasets/CT_MedicalImages/dicom_dir/ID_0020_AGE_0066_CONTRAST_1_CT.dcm\n",
            "/content/drive/MyDrive/Datasets/CT_MedicalImages/dicom_dir/ID_0001_AGE_0069_CONTRAST_1_CT.dcm\n",
            "/content/drive/MyDrive/Datasets/CT_MedicalImages/dicom_dir/ID_0003_AGE_0075_CONTRAST_1_CT.dcm\n",
            "/content/drive/MyDrive/Datasets/CT_MedicalImages/dicom_dir/ID_0021_AGE_0067_CONTRAST_1_CT.dcm\n",
            "/content/drive/MyDrive/Datasets/CT_MedicalImages/dicom_dir/ID_0002_AGE_0074_CONTRAST_1_CT.dcm\n",
            "/content/drive/MyDrive/Datasets/CT_MedicalImages/dicom_dir/ID_0005_AGE_0048_CONTRAST_1_CT.dcm\n",
            "/content/drive/MyDrive/Datasets/CT_MedicalImages/dicom_dir/ID_0007_AGE_0061_CONTRAST_1_CT.dcm\n",
            "/content/drive/MyDrive/Datasets/CT_MedicalImages/dicom_dir/ID_0023_AGE_0061_CONTRAST_1_CT.dcm\n",
            "/content/drive/MyDrive/Datasets/CT_MedicalImages/dicom_dir/ID_0013_AGE_0060_CONTRAST_1_CT.dcm\n",
            "/content/drive/MyDrive/Datasets/CT_MedicalImages/dicom_dir/ID_0025_AGE_0074_CONTRAST_1_CT.dcm\n",
            "/content/drive/MyDrive/Datasets/CT_MedicalImages/dicom_dir/ID_0018_AGE_0074_CONTRAST_1_CT.dcm\n",
            "/content/drive/MyDrive/Datasets/CT_MedicalImages/dicom_dir/ID_0016_AGE_0063_CONTRAST_1_CT.dcm\n",
            "/content/drive/MyDrive/Datasets/CT_MedicalImages/dicom_dir/ID_0004_AGE_0056_CONTRAST_1_CT.dcm\n",
            "/content/drive/MyDrive/Datasets/CT_MedicalImages/dicom_dir/ID_0045_AGE_0074_CONTRAST_1_CT (1).dcm\n",
            "/content/drive/MyDrive/Datasets/CT_MedicalImages/dicom_dir/ID_0047_AGE_0069_CONTRAST_1_CT.dcm\n",
            "/content/drive/MyDrive/Datasets/CT_MedicalImages/dicom_dir/ID_0028_AGE_0074_CONTRAST_1_CT.dcm\n",
            "/content/drive/MyDrive/Datasets/CT_MedicalImages/dicom_dir/ID_0030_AGE_0076_CONTRAST_1_CT.dcm\n",
            "/content/drive/MyDrive/Datasets/CT_MedicalImages/dicom_dir/ID_0056_AGE_0083_CONTRAST_0_CT.dcm\n",
            "/content/drive/MyDrive/Datasets/CT_MedicalImages/dicom_dir/ID_0054_AGE_0082_CONTRAST_0_CT (1).dcm\n",
            "/content/drive/MyDrive/Datasets/CT_MedicalImages/dicom_dir/ID_0050_AGE_0074_CONTRAST_0_CT (1).dcm\n",
            "/content/drive/MyDrive/Datasets/CT_MedicalImages/dicom_dir/ID_0034_AGE_0061_CONTRAST_1_CT.dcm\n",
            "/content/drive/MyDrive/Datasets/CT_MedicalImages/dicom_dir/ID_0054_AGE_0082_CONTRAST_0_CT.dcm\n",
            "/content/drive/MyDrive/Datasets/CT_MedicalImages/dicom_dir/ID_0048_AGE_0077_CONTRAST_1_CT (1).dcm\n",
            "/content/drive/MyDrive/Datasets/CT_MedicalImages/dicom_dir/ID_0048_AGE_0077_CONTRAST_1_CT.dcm\n",
            "/content/drive/MyDrive/Datasets/CT_MedicalImages/dicom_dir/ID_0052_AGE_0072_CONTRAST_0_CT.dcm\n",
            "/content/drive/MyDrive/Datasets/CT_MedicalImages/dicom_dir/ID_0049_AGE_0061_CONTRAST_1_CT (1).dcm\n",
            "/content/drive/MyDrive/Datasets/CT_MedicalImages/dicom_dir/ID_0046_AGE_0072_CONTRAST_1_CT (1).dcm\n",
            "/content/drive/MyDrive/Datasets/CT_MedicalImages/dicom_dir/ID_0045_AGE_0074_CONTRAST_1_CT.dcm\n",
            "/content/drive/MyDrive/Datasets/CT_MedicalImages/dicom_dir/ID_0038_AGE_0071_CONTRAST_1_CT.dcm\n",
            "/content/drive/MyDrive/Datasets/CT_MedicalImages/dicom_dir/ID_0050_AGE_0074_CONTRAST_0_CT.dcm\n",
            "/content/drive/MyDrive/Datasets/CT_MedicalImages/dicom_dir/ID_0037_AGE_0074_CONTRAST_1_CT.dcm\n",
            "/content/drive/MyDrive/Datasets/CT_MedicalImages/dicom_dir/ID_0039_AGE_0074_CONTRAST_1_CT.dcm\n",
            "/content/drive/MyDrive/Datasets/CT_MedicalImages/dicom_dir/ID_0059_AGE_0074_CONTRAST_0_CT.dcm\n",
            "/content/drive/MyDrive/Datasets/CT_MedicalImages/dicom_dir/ID_0053_AGE_0073_CONTRAST_0_CT.dcm\n",
            "/content/drive/MyDrive/Datasets/CT_MedicalImages/dicom_dir/ID_0032_AGE_0061_CONTRAST_1_CT.dcm\n",
            "/content/drive/MyDrive/Datasets/CT_MedicalImages/dicom_dir/ID_0031_AGE_0039_CONTRAST_1_CT.dcm\n",
            "/content/drive/MyDrive/Datasets/CT_MedicalImages/dicom_dir/ID_0042_AGE_0071_CONTRAST_1_CT.dcm\n",
            "/content/drive/MyDrive/Datasets/CT_MedicalImages/dicom_dir/ID_0043_AGE_0069_CONTRAST_1_CT.dcm\n",
            "/content/drive/MyDrive/Datasets/CT_MedicalImages/dicom_dir/ID_0040_AGE_0069_CONTRAST_1_CT.dcm\n",
            "/content/drive/MyDrive/Datasets/CT_MedicalImages/dicom_dir/ID_0049_AGE_0061_CONTRAST_1_CT.dcm\n",
            "/content/drive/MyDrive/Datasets/CT_MedicalImages/dicom_dir/ID_0057_AGE_0049_CONTRAST_0_CT.dcm\n",
            "/content/drive/MyDrive/Datasets/CT_MedicalImages/dicom_dir/ID_0036_AGE_0074_CONTRAST_1_CT.dcm\n",
            "/content/drive/MyDrive/Datasets/CT_MedicalImages/dicom_dir/ID_0055_AGE_0071_CONTRAST_0_CT.dcm\n",
            "/content/drive/MyDrive/Datasets/CT_MedicalImages/dicom_dir/ID_0035_AGE_0059_CONTRAST_1_CT.dcm\n",
            "/content/drive/MyDrive/Datasets/CT_MedicalImages/dicom_dir/ID_0027_AGE_0064_CONTRAST_1_CT.dcm\n",
            "/content/drive/MyDrive/Datasets/CT_MedicalImages/dicom_dir/ID_0041_AGE_0045_CONTRAST_1_CT.dcm\n",
            "/content/drive/MyDrive/Datasets/CT_MedicalImages/dicom_dir/ID_0046_AGE_0072_CONTRAST_1_CT.dcm\n",
            "/content/drive/MyDrive/Datasets/CT_MedicalImages/dicom_dir/ID_0033_AGE_0071_CONTRAST_1_CT.dcm\n",
            "/content/drive/MyDrive/Datasets/CT_MedicalImages/dicom_dir/ID_0051_AGE_0063_CONTRAST_0_CT.dcm\n",
            "/content/drive/MyDrive/Datasets/CT_MedicalImages/dicom_dir/ID_0044_AGE_0072_CONTRAST_1_CT.dcm\n",
            "/content/drive/MyDrive/Datasets/CT_MedicalImages/dicom_dir/ID_0058_AGE_0082_CONTRAST_0_CT.dcm\n",
            "/content/drive/MyDrive/Datasets/CT_MedicalImages/dicom_dir/ID_0029_AGE_0078_CONTRAST_1_CT.dcm\n",
            "/content/drive/MyDrive/Datasets/CT_MedicalImages/dicom_dir/ID_0085_AGE_0067_CONTRAST_0_CT.dcm\n",
            "/content/drive/MyDrive/Datasets/CT_MedicalImages/dicom_dir/ID_0073_AGE_0074_CONTRAST_0_CT.dcm\n",
            "/content/drive/MyDrive/Datasets/CT_MedicalImages/dicom_dir/ID_0077_AGE_0074_CONTRAST_0_CT.dcm\n",
            "/content/drive/MyDrive/Datasets/CT_MedicalImages/dicom_dir/ID_0071_AGE_0065_CONTRAST_0_CT.dcm\n",
            "/content/drive/MyDrive/Datasets/CT_MedicalImages/dicom_dir/ID_0065_AGE_0082_CONTRAST_0_CT.dcm\n",
            "/content/drive/MyDrive/Datasets/CT_MedicalImages/dicom_dir/ID_0064_AGE_0058_CONTRAST_0_CT.dcm\n",
            "/content/drive/MyDrive/Datasets/CT_MedicalImages/dicom_dir/ID_0089_AGE_0071_CONTRAST_0_CT.dcm\n",
            "/content/drive/MyDrive/Datasets/CT_MedicalImages/dicom_dir/ID_0069_AGE_0074_CONTRAST_0_CT.dcm\n",
            "/content/drive/MyDrive/Datasets/CT_MedicalImages/dicom_dir/ID_0076_AGE_0068_CONTRAST_0_CT.dcm\n",
            "/content/drive/MyDrive/Datasets/CT_MedicalImages/dicom_dir/ID_0086_AGE_0073_CONTRAST_0_CT.dcm\n",
            "/content/drive/MyDrive/Datasets/CT_MedicalImages/dicom_dir/ID_0081_AGE_0058_CONTRAST_0_CT.dcm\n",
            "/content/drive/MyDrive/Datasets/CT_MedicalImages/dicom_dir/ID_0072_AGE_0060_CONTRAST_0_CT.dcm\n",
            "/content/drive/MyDrive/Datasets/CT_MedicalImages/dicom_dir/ID_0060_AGE_0080_CONTRAST_0_CT.dcm\n",
            "/content/drive/MyDrive/Datasets/CT_MedicalImages/dicom_dir/ID_0092_AGE_0072_CONTRAST_0_CT.dcm\n",
            "/content/drive/MyDrive/Datasets/CT_MedicalImages/dicom_dir/ID_0084_AGE_0067_CONTRAST_0_CT.dcm\n",
            "/content/drive/MyDrive/Datasets/CT_MedicalImages/dicom_dir/ID_0083_AGE_0082_CONTRAST_0_CT.dcm\n",
            "/content/drive/MyDrive/Datasets/CT_MedicalImages/dicom_dir/ID_0091_AGE_0072_CONTRAST_0_CT.dcm\n",
            "/content/drive/MyDrive/Datasets/CT_MedicalImages/dicom_dir/ID_0075_AGE_0080_CONTRAST_0_CT.dcm\n",
            "/content/drive/MyDrive/Datasets/CT_MedicalImages/dicom_dir/ID_0088_AGE_0067_CONTRAST_0_CT.dcm\n",
            "/content/drive/MyDrive/Datasets/CT_MedicalImages/dicom_dir/ID_0078_AGE_0066_CONTRAST_0_CT.dcm\n",
            "/content/drive/MyDrive/Datasets/CT_MedicalImages/dicom_dir/ID_0087_AGE_0044_CONTRAST_0_CT.dcm\n",
            "/content/drive/MyDrive/Datasets/CT_MedicalImages/dicom_dir/ID_0061_AGE_0074_CONTRAST_0_CT.dcm\n",
            "/content/drive/MyDrive/Datasets/CT_MedicalImages/dicom_dir/ID_0079_AGE_0071_CONTRAST_0_CT.dcm\n",
            "/content/drive/MyDrive/Datasets/CT_MedicalImages/dicom_dir/ID_0074_AGE_0074_CONTRAST_0_CT.dcm\n",
            "/content/drive/MyDrive/Datasets/CT_MedicalImages/dicom_dir/ID_0082_AGE_0047_CONTRAST_0_CT.dcm\n",
            "/content/drive/MyDrive/Datasets/CT_MedicalImages/dicom_dir/ID_0090_AGE_0067_CONTRAST_0_CT.dcm\n",
            "/content/drive/MyDrive/Datasets/CT_MedicalImages/dicom_dir/ID_0066_AGE_0082_CONTRAST_0_CT.dcm\n",
            "/content/drive/MyDrive/Datasets/CT_MedicalImages/dicom_dir/ID_0062_AGE_0067_CONTRAST_0_CT.dcm\n",
            "/content/drive/MyDrive/Datasets/CT_MedicalImages/dicom_dir/ID_0067_AGE_0060_CONTRAST_0_CT.dcm\n",
            "/content/drive/MyDrive/Datasets/CT_MedicalImages/dicom_dir/ID_0070_AGE_0074_CONTRAST_0_CT.dcm\n",
            "/content/drive/MyDrive/Datasets/CT_MedicalImages/dicom_dir/ID_0068_AGE_0072_CONTRAST_0_CT.dcm\n",
            "/content/drive/MyDrive/Datasets/CT_MedicalImages/dicom_dir/ID_0063_AGE_0073_CONTRAST_0_CT.dcm\n",
            "/content/drive/MyDrive/Datasets/CT_MedicalImages/dicom_dir/ID_0080_AGE_0070_CONTRAST_0_CT.dcm\n",
            "/content/drive/MyDrive/Datasets/CT_MedicalImages/dicom_dir/ID_0094_AGE_0052_CONTRAST_0_CT.dcm\n",
            "/content/drive/MyDrive/Datasets/CT_MedicalImages/dicom_dir/ID_0093_AGE_0067_CONTRAST_0_CT.dcm\n",
            "/content/drive/MyDrive/Datasets/CT_MedicalImages/dicom_dir/ID_0096_AGE_0083_CONTRAST_0_CT.dcm\n",
            "/content/drive/MyDrive/Datasets/CT_MedicalImages/dicom_dir/ID_0095_AGE_0071_CONTRAST_0_CT.dcm\n",
            "/content/drive/MyDrive/Datasets/CT_MedicalImages/dicom_dir/ID_0099_AGE_0061_CONTRAST_0_CT.dcm\n",
            "/content/drive/MyDrive/Datasets/CT_MedicalImages/dicom_dir/ID_0097_AGE_0060_CONTRAST_0_CT.dcm\n",
            "/content/drive/MyDrive/Datasets/CT_MedicalImages/dicom_dir/ID_0098_AGE_0061_CONTRAST_0_CT.dcm\n"
          ],
          "name": "stdout"
        }
      ]
    },
    {
      "cell_type": "code",
      "metadata": {
        "colab": {
          "base_uri": "https://localhost:8080/",
          "height": 326
        },
        "id": "C-tfdaRTL9jh",
        "outputId": "23c24f01-e831-4aff-ec0e-b7ba3a04c03f"
      },
      "source": [
        "BASE_IMG_PATH=os.path.join('..','/content/drive/MyDrive/Datasets/CT_MedicalImages')\n",
        "path= os.path.join(BASE_IMG_PATH,'overview.csv')\n",
        "overview = pd.read_csv(path)\n",
        "overview.head()"
      ],
      "execution_count": 3,
      "outputs": [
        {
          "output_type": "execute_result",
          "data": {
            "text/html": [
              "<div>\n",
              "<style scoped>\n",
              "    .dataframe tbody tr th:only-of-type {\n",
              "        vertical-align: middle;\n",
              "    }\n",
              "\n",
              "    .dataframe tbody tr th {\n",
              "        vertical-align: top;\n",
              "    }\n",
              "\n",
              "    .dataframe thead th {\n",
              "        text-align: right;\n",
              "    }\n",
              "</style>\n",
              "<table border=\"1\" class=\"dataframe\">\n",
              "  <thead>\n",
              "    <tr style=\"text-align: right;\">\n",
              "      <th></th>\n",
              "      <th>Unnamed: 0</th>\n",
              "      <th>Age</th>\n",
              "      <th>Contrast</th>\n",
              "      <th>ContrastTag</th>\n",
              "      <th>raw_input_path</th>\n",
              "      <th>id</th>\n",
              "      <th>tiff_name</th>\n",
              "      <th>dicom_name</th>\n",
              "    </tr>\n",
              "  </thead>\n",
              "  <tbody>\n",
              "    <tr>\n",
              "      <th>0</th>\n",
              "      <td>0</td>\n",
              "      <td>60</td>\n",
              "      <td>True</td>\n",
              "      <td>NONE</td>\n",
              "      <td>../data/50_50_dicom_cases\\Contrast\\00001 (1).dcm</td>\n",
              "      <td>0</td>\n",
              "      <td>ID_0000_AGE_0060_CONTRAST_1_CT.tif</td>\n",
              "      <td>ID_0000_AGE_0060_CONTRAST_1_CT.dcm</td>\n",
              "    </tr>\n",
              "    <tr>\n",
              "      <th>1</th>\n",
              "      <td>1</td>\n",
              "      <td>69</td>\n",
              "      <td>True</td>\n",
              "      <td>NONE</td>\n",
              "      <td>../data/50_50_dicom_cases\\Contrast\\00001 (10).dcm</td>\n",
              "      <td>1</td>\n",
              "      <td>ID_0001_AGE_0069_CONTRAST_1_CT.tif</td>\n",
              "      <td>ID_0001_AGE_0069_CONTRAST_1_CT.dcm</td>\n",
              "    </tr>\n",
              "    <tr>\n",
              "      <th>2</th>\n",
              "      <td>2</td>\n",
              "      <td>74</td>\n",
              "      <td>True</td>\n",
              "      <td>APPLIED</td>\n",
              "      <td>../data/50_50_dicom_cases\\Contrast\\00001 (11).dcm</td>\n",
              "      <td>2</td>\n",
              "      <td>ID_0002_AGE_0074_CONTRAST_1_CT.tif</td>\n",
              "      <td>ID_0002_AGE_0074_CONTRAST_1_CT.dcm</td>\n",
              "    </tr>\n",
              "    <tr>\n",
              "      <th>3</th>\n",
              "      <td>3</td>\n",
              "      <td>75</td>\n",
              "      <td>True</td>\n",
              "      <td>NONE</td>\n",
              "      <td>../data/50_50_dicom_cases\\Contrast\\00001 (12).dcm</td>\n",
              "      <td>3</td>\n",
              "      <td>ID_0003_AGE_0075_CONTRAST_1_CT.tif</td>\n",
              "      <td>ID_0003_AGE_0075_CONTRAST_1_CT.dcm</td>\n",
              "    </tr>\n",
              "    <tr>\n",
              "      <th>4</th>\n",
              "      <td>4</td>\n",
              "      <td>56</td>\n",
              "      <td>True</td>\n",
              "      <td>NONE</td>\n",
              "      <td>../data/50_50_dicom_cases\\Contrast\\00001 (13).dcm</td>\n",
              "      <td>4</td>\n",
              "      <td>ID_0004_AGE_0056_CONTRAST_1_CT.tif</td>\n",
              "      <td>ID_0004_AGE_0056_CONTRAST_1_CT.dcm</td>\n",
              "    </tr>\n",
              "  </tbody>\n",
              "</table>\n",
              "</div>"
            ],
            "text/plain": [
              "   Unnamed: 0  ...                          dicom_name\n",
              "0           0  ...  ID_0000_AGE_0060_CONTRAST_1_CT.dcm\n",
              "1           1  ...  ID_0001_AGE_0069_CONTRAST_1_CT.dcm\n",
              "2           2  ...  ID_0002_AGE_0074_CONTRAST_1_CT.dcm\n",
              "3           3  ...  ID_0003_AGE_0075_CONTRAST_1_CT.dcm\n",
              "4           4  ...  ID_0004_AGE_0056_CONTRAST_1_CT.dcm\n",
              "\n",
              "[5 rows x 8 columns]"
            ]
          },
          "metadata": {
            "tags": []
          },
          "execution_count": 3
        }
      ]
    },
    {
      "cell_type": "code",
      "metadata": {
        "colab": {
          "base_uri": "https://localhost:8080/"
        },
        "id": "8TXkR-FNMdnu",
        "outputId": "6150fe8b-48db-4214-bd3d-86e25365fa91"
      },
      "source": [
        "len(overview)"
      ],
      "execution_count": 4,
      "outputs": [
        {
          "output_type": "execute_result",
          "data": {
            "text/plain": [
              "100"
            ]
          },
          "metadata": {
            "tags": []
          },
          "execution_count": 4
        }
      ]
    },
    {
      "cell_type": "code",
      "metadata": {
        "id": "KUricBEfMiu6"
      },
      "source": [
        "overview['Contrast'] = overview['Contrast'].map(lambda x: 1 if x else 0)"
      ],
      "execution_count": 5,
      "outputs": []
    },
    {
      "cell_type": "code",
      "metadata": {
        "colab": {
          "base_uri": "https://localhost:8080/"
        },
        "id": "AlpfhGCoMlIQ",
        "outputId": "a224216e-b51b-4a1c-b915-9c644b767d21"
      },
      "source": [
        "overview['Contrast'] "
      ],
      "execution_count": 6,
      "outputs": [
        {
          "output_type": "execute_result",
          "data": {
            "text/plain": [
              "0     1\n",
              "1     1\n",
              "2     1\n",
              "3     1\n",
              "4     1\n",
              "     ..\n",
              "95    0\n",
              "96    0\n",
              "97    0\n",
              "98    0\n",
              "99    0\n",
              "Name: Contrast, Length: 100, dtype: int64"
            ]
          },
          "metadata": {
            "tags": []
          },
          "execution_count": 6
        }
      ]
    },
    {
      "cell_type": "code",
      "metadata": {
        "colab": {
          "base_uri": "https://localhost:8080/",
          "height": 405
        },
        "id": "eWwSvxxlMpgR",
        "outputId": "44764cf9-2cf3-4767-823f-562a8864ebb1"
      },
      "source": [
        "plt.figure(figsize=(10,5))\n",
        "sns.distplot(overview['Age'])"
      ],
      "execution_count": 7,
      "outputs": [
        {
          "output_type": "stream",
          "text": [
            "/usr/local/lib/python3.7/dist-packages/seaborn/distributions.py:2557: FutureWarning: `distplot` is a deprecated function and will be removed in a future version. Please adapt your code to use either `displot` (a figure-level function with similar flexibility) or `histplot` (an axes-level function for histograms).\n",
            "  warnings.warn(msg, FutureWarning)\n"
          ],
          "name": "stderr"
        },
        {
          "output_type": "execute_result",
          "data": {
            "text/plain": [
              "<matplotlib.axes._subplots.AxesSubplot at 0x7efded603090>"
            ]
          },
          "metadata": {
            "tags": []
          },
          "execution_count": 7
        },
        {
          "output_type": "display_data",
          "data": {
            "image/png": "[encoded data removed]",
            "text/plain": [
              "<Figure size 720x360 with 1 Axes>"
            ]
          },
          "metadata": {
            "tags": [],
            "needs_background": "light"
          }
        }
      ]
    },
    {
      "cell_type": "code",
      "metadata": {
        "colab": {
          "base_uri": "https://localhost:8080/",
          "height": 607
        },
        "id": "rB2a-7qbMw_K",
        "outputId": "b6a514cc-2091-4191-cf84-1fe1b97c33cd"
      },
      "source": [
        "g = sns.FacetGrid(overview, col=\"Contrast\", size=8)\n",
        "g = g.map(sns.distplot, \"Age\")"
      ],
      "execution_count": 8,
      "outputs": [
        {
          "output_type": "stream",
          "text": [
            "/usr/local/lib/python3.7/dist-packages/seaborn/axisgrid.py:316: UserWarning: The `size` parameter has been renamed to `height`; please update your code.\n",
            "  warnings.warn(msg, UserWarning)\n",
            "/usr/local/lib/python3.7/dist-packages/seaborn/distributions.py:2557: FutureWarning: `distplot` is a deprecated function and will be removed in a future version. Please adapt your code to use either `displot` (a figure-level function with similar flexibility) or `histplot` (an axes-level function for histograms).\n",
            "  warnings.warn(msg, FutureWarning)\n",
            "/usr/local/lib/python3.7/dist-packages/seaborn/distributions.py:2557: FutureWarning: `distplot` is a deprecated function and will be removed in a future version. Please adapt your code to use either `displot` (a figure-level function with similar flexibility) or `histplot` (an axes-level function for histograms).\n",
            "  warnings.warn(msg, FutureWarning)\n"
          ],
          "name": "stderr"
        },
        {
          "output_type": "display_data",
          "data": {
            "image/png": "[encoded data removed]",
            "text/plain": [
              "<Figure size 1152x576 with 2 Axes>"
            ]
          },
          "metadata": {
            "tags": [],
            "needs_background": "light"
          }
        }
      ]
    },
    {
      "cell_type": "code",
      "metadata": {
        "colab": {
          "base_uri": "https://localhost:8080/",
          "height": 563
        },
        "id": "-QN1WIKKMy-d",
        "outputId": "77635a60-45c8-4908-c603-21bf2e480155"
      },
      "source": [
        "g = sns.FacetGrid(overview, hue=\"Contrast\",size=6, legend_out=True)\n",
        "g = g.map(sns.distplot, \"Age\").add_legend()"
      ],
      "execution_count": 9,
      "outputs": [
        {
          "output_type": "stream",
          "text": [
            "/usr/local/lib/python3.7/dist-packages/seaborn/axisgrid.py:316: UserWarning: The `size` parameter has been renamed to `height`; please update your code.\n",
            "  warnings.warn(msg, UserWarning)\n",
            "/usr/local/lib/python3.7/dist-packages/seaborn/distributions.py:2557: FutureWarning: `distplot` is a deprecated function and will be removed in a future version. Please adapt your code to use either `displot` (a figure-level function with similar flexibility) or `histplot` (an axes-level function for histograms).\n",
            "  warnings.warn(msg, FutureWarning)\n",
            "/usr/local/lib/python3.7/dist-packages/seaborn/distributions.py:2557: FutureWarning: `distplot` is a deprecated function and will be removed in a future version. Please adapt your code to use either `displot` (a figure-level function with similar flexibility) or `histplot` (an axes-level function for histograms).\n",
            "  warnings.warn(msg, FutureWarning)\n"
          ],
          "name": "stderr"
        },
        {
          "output_type": "display_data",
          "data": {
            "image/png": "[encoded data removed]",
            "text/plain": [
              "<Figure size 482.5x432 with 1 Axes>"
            ]
          },
          "metadata": {
            "tags": [],
            "needs_background": "light"
          }
        }
      ]
    },
    {
      "cell_type": "code",
      "metadata": {
        "colab": {
          "base_uri": "https://localhost:8080/"
        },
        "id": "kgBuzM5HM3fR",
        "outputId": "1f9cff14-698f-4139-cb83-d2de615f8746"
      },
      "source": [
        "BASE_IMG_PATH=os.path.join('..','/content/drive/MyDrive/Datasets/CT_MedicalImages')\n",
        "print(os.path.join(BASE_IMG_PATH,'tiff_images','*.tif'))\n",
        "all_images_list = glob(os.path.join(BASE_IMG_PATH,'tiff_images','*.tif'))\n",
        "all_images_list[:5]\n",
        "print(all_images_list)"
      ],
      "execution_count": 10,
      "outputs": [
        {
          "output_type": "stream",
          "text": [
            "/content/drive/MyDrive/Datasets/CT_MedicalImages/tiff_images/*.tif\n",
            "['/content/drive/MyDrive/Datasets/CT_MedicalImages/tiff_images/ID_0001_AGE_0069_CONTRAST_1_CT.tif', '/content/drive/MyDrive/Datasets/CT_MedicalImages/tiff_images/ID_0000_AGE_0060_CONTRAST_1_CT.tif', '/content/drive/MyDrive/Datasets/CT_MedicalImages/tiff_images/ID_0006_AGE_0075_CONTRAST_1_CT.tif', '/content/drive/MyDrive/Datasets/CT_MedicalImages/tiff_images/ID_0002_AGE_0074_CONTRAST_1_CT.tif', '/content/drive/MyDrive/Datasets/CT_MedicalImages/tiff_images/ID_0007_AGE_0061_CONTRAST_1_CT.tif', '/content/drive/MyDrive/Datasets/CT_MedicalImages/tiff_images/ID_0004_AGE_0056_CONTRAST_1_CT.tif', '/content/drive/MyDrive/Datasets/CT_MedicalImages/tiff_images/ID_0005_AGE_0048_CONTRAST_1_CT.tif', '/content/drive/MyDrive/Datasets/CT_MedicalImages/tiff_images/ID_0003_AGE_0075_CONTRAST_1_CT.tif', '/content/drive/MyDrive/Datasets/CT_MedicalImages/tiff_images/ID_0008_AGE_0051_CONTRAST_1_CT.tif', '/content/drive/MyDrive/Datasets/CT_MedicalImages/tiff_images/ID_0017_AGE_0060_CONTRAST_1_CT.tif', '/content/drive/MyDrive/Datasets/CT_MedicalImages/tiff_images/ID_0019_AGE_0070_CONTRAST_1_CT.tif', '/content/drive/MyDrive/Datasets/CT_MedicalImages/tiff_images/ID_0015_AGE_0061_CONTRAST_1_CT.tif', '/content/drive/MyDrive/Datasets/CT_MedicalImages/tiff_images/ID_0012_AGE_0061_CONTRAST_1_CT.tif', '/content/drive/MyDrive/Datasets/CT_MedicalImages/tiff_images/ID_0013_AGE_0060_CONTRAST_1_CT.tif', '/content/drive/MyDrive/Datasets/CT_MedicalImages/tiff_images/ID_0016_AGE_0063_CONTRAST_1_CT.tif', '/content/drive/MyDrive/Datasets/CT_MedicalImages/tiff_images/ID_0010_AGE_0060_CONTRAST_1_CT.tif', '/content/drive/MyDrive/Datasets/CT_MedicalImages/tiff_images/ID_0009_AGE_0048_CONTRAST_1_CT.tif', '/content/drive/MyDrive/Datasets/CT_MedicalImages/tiff_images/ID_0014_AGE_0071_CONTRAST_1_CT.tif', '/content/drive/MyDrive/Datasets/CT_MedicalImages/tiff_images/ID_0020_AGE_0066_CONTRAST_1_CT.tif', '/content/drive/MyDrive/Datasets/CT_MedicalImages/tiff_images/ID_0018_AGE_0074_CONTRAST_1_CT.tif', '/content/drive/MyDrive/Datasets/CT_MedicalImages/tiff_images/ID_0011_AGE_0061_CONTRAST_1_CT.tif', '/content/drive/MyDrive/Datasets/CT_MedicalImages/tiff_images/ID_0026_AGE_0070_CONTRAST_1_CT.tif', '/content/drive/MyDrive/Datasets/CT_MedicalImages/tiff_images/ID_0022_AGE_0074_CONTRAST_1_CT.tif', '/content/drive/MyDrive/Datasets/CT_MedicalImages/tiff_images/ID_0025_AGE_0074_CONTRAST_1_CT.tif', '/content/drive/MyDrive/Datasets/CT_MedicalImages/tiff_images/ID_0023_AGE_0061_CONTRAST_1_CT.tif', '/content/drive/MyDrive/Datasets/CT_MedicalImages/tiff_images/ID_0027_AGE_0064_CONTRAST_1_CT.tif', '/content/drive/MyDrive/Datasets/CT_MedicalImages/tiff_images/ID_0021_AGE_0067_CONTRAST_1_CT.tif', '/content/drive/MyDrive/Datasets/CT_MedicalImages/tiff_images/ID_0024_AGE_0060_CONTRAST_1_CT.tif', '/content/drive/MyDrive/Datasets/CT_MedicalImages/tiff_images/ID_0031_AGE_0039_CONTRAST_1_CT.tif', '/content/drive/MyDrive/Datasets/CT_MedicalImages/tiff_images/ID_0028_AGE_0074_CONTRAST_1_CT.tif', '/content/drive/MyDrive/Datasets/CT_MedicalImages/tiff_images/ID_0029_AGE_0078_CONTRAST_1_CT.tif', '/content/drive/MyDrive/Datasets/CT_MedicalImages/tiff_images/ID_0030_AGE_0076_CONTRAST_1_CT.tif', '/content/drive/MyDrive/Datasets/CT_MedicalImages/tiff_images/ID_0041_AGE_0045_CONTRAST_1_CT.tif', '/content/drive/MyDrive/Datasets/CT_MedicalImages/tiff_images/ID_0035_AGE_0059_CONTRAST_1_CT.tif', '/content/drive/MyDrive/Datasets/CT_MedicalImages/tiff_images/ID_0033_AGE_0071_CONTRAST_1_CT.tif', '/content/drive/MyDrive/Datasets/CT_MedicalImages/tiff_images/ID_0036_AGE_0074_CONTRAST_1_CT.tif', '/content/drive/MyDrive/Datasets/CT_MedicalImages/tiff_images/ID_0032_AGE_0061_CONTRAST_1_CT.tif', '/content/drive/MyDrive/Datasets/CT_MedicalImages/tiff_images/ID_0034_AGE_0061_CONTRAST_1_CT.tif', '/content/drive/MyDrive/Datasets/CT_MedicalImages/tiff_images/ID_0042_AGE_0071_CONTRAST_1_CT.tif', '/content/drive/MyDrive/Datasets/CT_MedicalImages/tiff_images/ID_0038_AGE_0071_CONTRAST_1_CT.tif', '/content/drive/MyDrive/Datasets/CT_MedicalImages/tiff_images/ID_0043_AGE_0069_CONTRAST_1_CT.tif', '/content/drive/MyDrive/Datasets/CT_MedicalImages/tiff_images/ID_0039_AGE_0074_CONTRAST_1_CT.tif', '/content/drive/MyDrive/Datasets/CT_MedicalImages/tiff_images/ID_0037_AGE_0074_CONTRAST_1_CT.tif', '/content/drive/MyDrive/Datasets/CT_MedicalImages/tiff_images/ID_0040_AGE_0069_CONTRAST_1_CT.tif', '/content/drive/MyDrive/Datasets/CT_MedicalImages/tiff_images/ID_0053_AGE_0073_CONTRAST_0_CT.tif', '/content/drive/MyDrive/Datasets/CT_MedicalImages/tiff_images/ID_0046_AGE_0072_CONTRAST_1_CT.tif', '/content/drive/MyDrive/Datasets/CT_MedicalImages/tiff_images/ID_0045_AGE_0074_CONTRAST_1_CT.tif', '/content/drive/MyDrive/Datasets/CT_MedicalImages/tiff_images/ID_0051_AGE_0063_CONTRAST_0_CT.tif', '/content/drive/MyDrive/Datasets/CT_MedicalImages/tiff_images/ID_0049_AGE_0061_CONTRAST_1_CT.tif', '/content/drive/MyDrive/Datasets/CT_MedicalImages/tiff_images/ID_0052_AGE_0072_CONTRAST_0_CT.tif', '/content/drive/MyDrive/Datasets/CT_MedicalImages/tiff_images/ID_0048_AGE_0077_CONTRAST_1_CT.tif', '/content/drive/MyDrive/Datasets/CT_MedicalImages/tiff_images/ID_0050_AGE_0074_CONTRAST_0_CT.tif', '/content/drive/MyDrive/Datasets/CT_MedicalImages/tiff_images/ID_0044_AGE_0072_CONTRAST_1_CT.tif', '/content/drive/MyDrive/Datasets/CT_MedicalImages/tiff_images/ID_0054_AGE_0082_CONTRAST_0_CT.tif', '/content/drive/MyDrive/Datasets/CT_MedicalImages/tiff_images/ID_0047_AGE_0069_CONTRAST_1_CT.tif', '/content/drive/MyDrive/Datasets/CT_MedicalImages/tiff_images/ID_0064_AGE_0058_CONTRAST_0_CT.tif', '/content/drive/MyDrive/Datasets/CT_MedicalImages/tiff_images/ID_0062_AGE_0067_CONTRAST_0_CT.tif', '/content/drive/MyDrive/Datasets/CT_MedicalImages/tiff_images/ID_0057_AGE_0049_CONTRAST_0_CT.tif', '/content/drive/MyDrive/Datasets/CT_MedicalImages/tiff_images/ID_0066_AGE_0082_CONTRAST_0_CT.tif', '/content/drive/MyDrive/Datasets/CT_MedicalImages/tiff_images/ID_0058_AGE_0082_CONTRAST_0_CT.tif', '/content/drive/MyDrive/Datasets/CT_MedicalImages/tiff_images/ID_0060_AGE_0080_CONTRAST_0_CT.tif', '/content/drive/MyDrive/Datasets/CT_MedicalImages/tiff_images/ID_0061_AGE_0074_CONTRAST_0_CT.tif', '/content/drive/MyDrive/Datasets/CT_MedicalImages/tiff_images/ID_0055_AGE_0071_CONTRAST_0_CT.tif', '/content/drive/MyDrive/Datasets/CT_MedicalImages/tiff_images/ID_0063_AGE_0073_CONTRAST_0_CT.tif', '/content/drive/MyDrive/Datasets/CT_MedicalImages/tiff_images/ID_0065_AGE_0082_CONTRAST_0_CT.tif', '/content/drive/MyDrive/Datasets/CT_MedicalImages/tiff_images/ID_0059_AGE_0074_CONTRAST_0_CT.tif', '/content/drive/MyDrive/Datasets/CT_MedicalImages/tiff_images/ID_0056_AGE_0083_CONTRAST_0_CT.tif', '/content/drive/MyDrive/Datasets/CT_MedicalImages/tiff_images/ID_0074_AGE_0074_CONTRAST_0_CT.tif', '/content/drive/MyDrive/Datasets/CT_MedicalImages/tiff_images/ID_0071_AGE_0065_CONTRAST_0_CT.tif', '/content/drive/MyDrive/Datasets/CT_MedicalImages/tiff_images/ID_0072_AGE_0060_CONTRAST_0_CT.tif', '/content/drive/MyDrive/Datasets/CT_MedicalImages/tiff_images/ID_0078_AGE_0066_CONTRAST_0_CT.tif', '/content/drive/MyDrive/Datasets/CT_MedicalImages/tiff_images/ID_0068_AGE_0072_CONTRAST_0_CT.tif', '/content/drive/MyDrive/Datasets/CT_MedicalImages/tiff_images/ID_0069_AGE_0074_CONTRAST_0_CT.tif', '/content/drive/MyDrive/Datasets/CT_MedicalImages/tiff_images/ID_0076_AGE_0068_CONTRAST_0_CT.tif', '/content/drive/MyDrive/Datasets/CT_MedicalImages/tiff_images/ID_0070_AGE_0074_CONTRAST_0_CT.tif', '/content/drive/MyDrive/Datasets/CT_MedicalImages/tiff_images/ID_0067_AGE_0060_CONTRAST_0_CT.tif', '/content/drive/MyDrive/Datasets/CT_MedicalImages/tiff_images/ID_0073_AGE_0074_CONTRAST_0_CT.tif', '/content/drive/MyDrive/Datasets/CT_MedicalImages/tiff_images/ID_0077_AGE_0074_CONTRAST_0_CT.tif', '/content/drive/MyDrive/Datasets/CT_MedicalImages/tiff_images/ID_0075_AGE_0080_CONTRAST_0_CT.tif', '/content/drive/MyDrive/Datasets/CT_MedicalImages/tiff_images/ID_0086_AGE_0073_CONTRAST_0_CT.tif', '/content/drive/MyDrive/Datasets/CT_MedicalImages/tiff_images/ID_0079_AGE_0071_CONTRAST_0_CT.tif', '/content/drive/MyDrive/Datasets/CT_MedicalImages/tiff_images/ID_0080_AGE_0070_CONTRAST_0_CT.tif', '/content/drive/MyDrive/Datasets/CT_MedicalImages/tiff_images/ID_0089_AGE_0071_CONTRAST_0_CT.tif', '/content/drive/MyDrive/Datasets/CT_MedicalImages/tiff_images/ID_0082_AGE_0047_CONTRAST_0_CT.tif', '/content/drive/MyDrive/Datasets/CT_MedicalImages/tiff_images/ID_0087_AGE_0044_CONTRAST_0_CT.tif', '/content/drive/MyDrive/Datasets/CT_MedicalImages/tiff_images/ID_0085_AGE_0067_CONTRAST_0_CT.tif', '/content/drive/MyDrive/Datasets/CT_MedicalImages/tiff_images/ID_0084_AGE_0067_CONTRAST_0_CT.tif', '/content/drive/MyDrive/Datasets/CT_MedicalImages/tiff_images/ID_0088_AGE_0067_CONTRAST_0_CT.tif', '/content/drive/MyDrive/Datasets/CT_MedicalImages/tiff_images/ID_0083_AGE_0082_CONTRAST_0_CT.tif', '/content/drive/MyDrive/Datasets/CT_MedicalImages/tiff_images/ID_0081_AGE_0058_CONTRAST_0_CT.tif', '/content/drive/MyDrive/Datasets/CT_MedicalImages/tiff_images/ID_0095_AGE_0071_CONTRAST_0_CT.tif', '/content/drive/MyDrive/Datasets/CT_MedicalImages/tiff_images/ID_0093_AGE_0067_CONTRAST_0_CT.tif', '/content/drive/MyDrive/Datasets/CT_MedicalImages/tiff_images/ID_0091_AGE_0072_CONTRAST_0_CT.tif', '/content/drive/MyDrive/Datasets/CT_MedicalImages/tiff_images/ID_0094_AGE_0052_CONTRAST_0_CT.tif', '/content/drive/MyDrive/Datasets/CT_MedicalImages/tiff_images/ID_0098_AGE_0061_CONTRAST_0_CT.tif', '/content/drive/MyDrive/Datasets/CT_MedicalImages/tiff_images/ID_0096_AGE_0083_CONTRAST_0_CT.tif', '/content/drive/MyDrive/Datasets/CT_MedicalImages/tiff_images/ID_0090_AGE_0067_CONTRAST_0_CT.tif', '/content/drive/MyDrive/Datasets/CT_MedicalImages/tiff_images/ID_0097_AGE_0060_CONTRAST_0_CT.tif', '/content/drive/MyDrive/Datasets/CT_MedicalImages/tiff_images/ID_0092_AGE_0072_CONTRAST_0_CT.tif', '/content/drive/MyDrive/Datasets/CT_MedicalImages/tiff_images/ID_0099_AGE_0061_CONTRAST_0_CT.tif']\n"
          ],
          "name": "stdout"
        }
      ]
    },
    {
      "cell_type": "code",
      "metadata": {
        "colab": {
          "base_uri": "https://localhost:8080/"
        },
        "id": "6A8ugWUPM-BI",
        "outputId": "77a6efcc-1fea-44e8-e2d6-f924cecb377b"
      },
      "source": [
        "io.imread(all_images_list[0]).shape"
      ],
      "execution_count": 11,
      "outputs": [
        {
          "output_type": "execute_result",
          "data": {
            "text/plain": [
              "(512, 512)"
            ]
          },
          "metadata": {
            "tags": []
          },
          "execution_count": 11
        }
      ]
    },
    {
      "cell_type": "code",
      "metadata": {
        "colab": {
          "base_uri": "https://localhost:8080/"
        },
        "id": "VgZvSkeXNGO4",
        "outputId": "a300a877-7dc3-400e-c8f1-b6185bcf457c"
      },
      "source": [
        "np.array(np.arange(81)).reshape(9,9)"
      ],
      "execution_count": 12,
      "outputs": [
        {
          "output_type": "execute_result",
          "data": {
            "text/plain": [
              "array([[ 0,  1,  2,  3,  4,  5,  6,  7,  8],\n",
              "       [ 9, 10, 11, 12, 13, 14, 15, 16, 17],\n",
              "       [18, 19, 20, 21, 22, 23, 24, 25, 26],\n",
              "       [27, 28, 29, 30, 31, 32, 33, 34, 35],\n",
              "       [36, 37, 38, 39, 40, 41, 42, 43, 44],\n",
              "       [45, 46, 47, 48, 49, 50, 51, 52, 53],\n",
              "       [54, 55, 56, 57, 58, 59, 60, 61, 62],\n",
              "       [63, 64, 65, 66, 67, 68, 69, 70, 71],\n",
              "       [72, 73, 74, 75, 76, 77, 78, 79, 80]])"
            ]
          },
          "metadata": {
            "tags": []
          },
          "execution_count": 12
        }
      ]
    },
    {
      "cell_type": "code",
      "metadata": {
        "colab": {
          "base_uri": "https://localhost:8080/"
        },
        "id": "b23sjb5ANMtg",
        "outputId": "eb266dcf-ae6d-4a07-ee2e-f5d578e78a1f"
      },
      "source": [
        "np.array(np.arange(81)).reshape(9,9)[::3,::3]"
      ],
      "execution_count": 13,
      "outputs": [
        {
          "output_type": "execute_result",
          "data": {
            "text/plain": [
              "array([[ 0,  3,  6],\n",
              "       [27, 30, 33],\n",
              "       [54, 57, 60]])"
            ]
          },
          "metadata": {
            "tags": []
          },
          "execution_count": 13
        }
      ]
    },
    {
      "cell_type": "code",
      "metadata": {
        "colab": {
          "base_uri": "https://localhost:8080/"
        },
        "id": "I67AT807NUbO",
        "outputId": "52c793ff-0234-4022-94cf-bf8a197f39ab"
      },
      "source": [
        "np.expand_dims(io.imread(all_images_list[0])[::4,::4],0).shape"
      ],
      "execution_count": 14,
      "outputs": [
        {
          "output_type": "execute_result",
          "data": {
            "text/plain": [
              "(1, 128, 128)"
            ]
          },
          "metadata": {
            "tags": []
          },
          "execution_count": 14
        }
      ]
    },
    {
      "cell_type": "code",
      "metadata": {
        "colab": {
          "base_uri": "https://localhost:8080/"
        },
        "id": "9Fhg5ykqNWqW",
        "outputId": "111709e0-1082-4ff7-802d-aea2d762df0e"
      },
      "source": [
        "jimread = lambda x: np.expand_dims(io.imread(x)[::2,::2],0)\n",
        "jimread "
      ],
      "execution_count": 15,
      "outputs": [
        {
          "output_type": "execute_result",
          "data": {
            "text/plain": [
              "<function __main__.<lambda>>"
            ]
          },
          "metadata": {
            "tags": []
          },
          "execution_count": 15
        }
      ]
    },
    {
      "cell_type": "code",
      "metadata": {
        "colab": {
          "base_uri": "https://localhost:8080/",
          "height": 286
        },
        "id": "Boq1EHuTNagN",
        "outputId": "9ddc5015-5cfe-464e-f362-4367e8915ec1"
      },
      "source": [
        "test_image = jimread(all_images_list[0])\n",
        "plt.imshow(test_image[0])"
      ],
      "execution_count": 16,
      "outputs": [
        {
          "output_type": "execute_result",
          "data": {
            "text/plain": [
              "<matplotlib.image.AxesImage at 0x7efde3aada90>"
            ]
          },
          "metadata": {
            "tags": []
          },
          "execution_count": 16
        },
        {
          "output_type": "display_data",
          "data": {
            "image/png": "[encoded data removed]",
            "text/plain": [
              "<Figure size 432x288 with 1 Axes>"
            ]
          },
          "metadata": {
            "tags": [],
            "needs_background": "light"
          }
        }
      ]
    },
    {
      "cell_type": "code",
      "metadata": {
        "id": "0b9W6LqgNefa"
      },
      "source": [
        "check_contrast = re.compile(r'/content/drive/MyDrive/Datasets/CT_MedicalImages/tiff_images/ID_([\\d]+)_AGE_[\\d]+_CONTRAST_([\\d]+)_CT.tif')\n",
        "label = []\n",
        "id_list = []\n",
        "for image in all_images_list:\n",
        "    id_list.append(check_contrast.findall(image)[0][0])\n",
        "    label.append(check_contrast.findall(image)[0][1])"
      ],
      "execution_count": 17,
      "outputs": []
    },
    {
      "cell_type": "code",
      "metadata": {
        "id": "s_pSG49BNltp"
      },
      "source": [
        "label_list = pd.DataFrame(label, id_list)"
      ],
      "execution_count": 25,
      "outputs": []
    },
    {
      "cell_type": "code",
      "metadata": {
        "colab": {
          "base_uri": "https://localhost:8080/",
          "height": 204
        },
        "id": "zcDvQ9CtXKRT",
        "outputId": "8cef992e-c3cb-4c35-f7fb-869e02f05e1f"
      },
      "source": [
        "label_list.head()"
      ],
      "execution_count": 26,
      "outputs": [
        {
          "output_type": "execute_result",
          "data": {
            "text/html": [
              "<div>\n",
              "<style scoped>\n",
              "    .dataframe tbody tr th:only-of-type {\n",
              "        vertical-align: middle;\n",
              "    }\n",
              "\n",
              "    .dataframe tbody tr th {\n",
              "        vertical-align: top;\n",
              "    }\n",
              "\n",
              "    .dataframe thead th {\n",
              "        text-align: right;\n",
              "    }\n",
              "</style>\n",
              "<table border=\"1\" class=\"dataframe\">\n",
              "  <thead>\n",
              "    <tr style=\"text-align: right;\">\n",
              "      <th></th>\n",
              "      <th>0</th>\n",
              "    </tr>\n",
              "  </thead>\n",
              "  <tbody>\n",
              "    <tr>\n",
              "      <th>0001</th>\n",
              "      <td>1</td>\n",
              "    </tr>\n",
              "    <tr>\n",
              "      <th>0000</th>\n",
              "      <td>1</td>\n",
              "    </tr>\n",
              "    <tr>\n",
              "      <th>0006</th>\n",
              "      <td>1</td>\n",
              "    </tr>\n",
              "    <tr>\n",
              "      <th>0002</th>\n",
              "      <td>1</td>\n",
              "    </tr>\n",
              "    <tr>\n",
              "      <th>0007</th>\n",
              "      <td>1</td>\n",
              "    </tr>\n",
              "  </tbody>\n",
              "</table>\n",
              "</div>"
            ],
            "text/plain": [
              "      0\n",
              "0001  1\n",
              "0000  1\n",
              "0006  1\n",
              "0002  1\n",
              "0007  1"
            ]
          },
          "metadata": {
            "tags": []
          },
          "execution_count": 26
        }
      ]
    },
    {
      "cell_type": "code",
      "metadata": {
        "colab": {
          "base_uri": "https://localhost:8080/"
        },
        "id": "TUzAjZbuahwE",
        "outputId": "1470db12-ffee-4de3-f9d7-0629c04baf1c"
      },
      "source": [
        "images = np.stack([jimread(i) for i in all_images_list],0)\n",
        "len(images)"
      ],
      "execution_count": 28,
      "outputs": [
        {
          "output_type": "execute_result",
          "data": {
            "text/plain": [
              "100"
            ]
          },
          "metadata": {
            "tags": []
          },
          "execution_count": 28
        }
      ]
    },
    {
      "cell_type": "code",
      "metadata": {
        "id": "uQ374MbDbDad"
      },
      "source": [
        "from sklearn.model_selection import train_test_split\n",
        "X_train, X_test, y_train, y_test = train_test_split(images, label_list, test_size=0.1, random_state=0)  "
      ],
      "execution_count": 29,
      "outputs": []
    },
    {
      "cell_type": "code",
      "metadata": {
        "id": "INLxeihEbOin"
      },
      "source": [
        "n_train, depth, width, height = X_train.shape\n",
        "n_test,_,_,_ = X_test.shape"
      ],
      "execution_count": 30,
      "outputs": []
    },
    {
      "cell_type": "code",
      "metadata": {
        "colab": {
          "base_uri": "https://localhost:8080/"
        },
        "id": "4II0CWehbPzV",
        "outputId": "22db8029-f615-434f-bc2a-66d141d5cc28"
      },
      "source": [
        "n_train,depth, width, height"
      ],
      "execution_count": 31,
      "outputs": [
        {
          "output_type": "execute_result",
          "data": {
            "text/plain": [
              "(90, 1, 256, 256)"
            ]
          },
          "metadata": {
            "tags": []
          },
          "execution_count": 31
        }
      ]
    },
    {
      "cell_type": "code",
      "metadata": {
        "id": "pbDaciWUbRCN"
      },
      "source": [
        "input_shape = (width,height,depth)\n",
        "input_shape"
      ],
      "execution_count": 32,
      "outputs": []
    },
    {
      "cell_type": "code",
      "metadata": {
        "colab": {
          "base_uri": "https://localhost:8080/"
        },
        "id": "bV-POv74bSqT",
        "outputId": "5bde5a0f-65dd-45d7-c8cf-b8ce43432411"
      },
      "source": [
        "input_train = X_train.reshape((n_train, width,height,depth))\n",
        "input_train.astype('float32')\n",
        "input_train = input_train / np.max(input_train)\n",
        "input_train.max()"
      ],
      "execution_count": 40,
      "outputs": [
        {
          "output_type": "execute_result",
          "data": {
            "text/plain": [
              "1.0"
            ]
          },
          "metadata": {
            "tags": []
          },
          "execution_count": 40
        }
      ]
    },
    {
      "cell_type": "code",
      "metadata": {
        "id": "MkcE9zkzbUBj"
      },
      "source": [
        "input_test = X_test.reshape(n_test, *input_shape)\n",
        "input_test.astype('float32')\n",
        "input_test = input_test / np.max(input_test)"
      ],
      "execution_count": 34,
      "outputs": []
    },
    {
      "cell_type": "code",
      "metadata": {
        "colab": {
          "base_uri": "https://localhost:8080/"
        },
        "id": "NYPjtaCNbYu1",
        "outputId": "dffc93c1-4950-4c71-8168-e790c01070f9"
      },
      "source": [
        "output_train = keras.utils.to_categorical(y_train, 2)\n",
        "output_test = keras.utils.to_categorical(y_test, 2)\n",
        "output_train[5]"
      ],
      "execution_count": 38,
      "outputs": [
        {
          "output_type": "execute_result",
          "data": {
            "text/plain": [
              "array([0., 1.], dtype=float32)"
            ]
          },
          "metadata": {
            "tags": []
          },
          "execution_count": 38
        }
      ]
    },
    {
      "cell_type": "code",
      "metadata": {
        "colab": {
          "base_uri": "https://localhost:8080/"
        },
        "id": "LKVN05eeba0m",
        "outputId": "f7d90402-50ed-4e9a-b836-2c649c0c97ac"
      },
      "source": [
        "input_train.shape"
      ],
      "execution_count": 41,
      "outputs": [
        {
          "output_type": "execute_result",
          "data": {
            "text/plain": [
              "(90, 256, 256, 1)"
            ]
          },
          "metadata": {
            "tags": []
          },
          "execution_count": 41
        }
      ]
    },
    {
      "cell_type": "code",
      "metadata": {
        "id": "EfD2QNU5bePQ"
      },
      "source": [
        "from keras.models import Sequential\n",
        "from keras.layers import Dense, Flatten\n",
        "from keras.optimizers import Adam\n",
        "from keras.layers import Conv2D, MaxPooling2D"
      ],
      "execution_count": 42,
      "outputs": []
    },
    {
      "cell_type": "code",
      "metadata": {
        "id": "RqtDH4x2bfcE"
      },
      "source": [
        "batch_size = 20\n",
        "epochs = 40"
      ],
      "execution_count": 43,
      "outputs": []
    },
    {
      "cell_type": "code",
      "metadata": {
        "colab": {
          "base_uri": "https://localhost:8080/"
        },
        "id": "Nz0X52eJbhL0",
        "outputId": "66948e47-3779-41ae-8329-8186e516ffe1"
      },
      "source": [
        "model2 = Sequential()\n",
        "model2.add(Conv2D(50, (5, 5), activation='relu', input_shape=input_shape))\n",
        "model2.add(MaxPooling2D(pool_size=(3, 3))) # 3x3 Maxpooling \n",
        "model2.add(Conv2D(30, (4, 4), activation='relu', input_shape=input_shape))\n",
        "model2.add(MaxPooling2D(pool_size=(2, 2))) # 2x2 Maxpooling \n",
        "model2.add(Flatten()) # 쭉풀어서 Fully Connected Neural Network를 만든다. \n",
        "model2.add(Dense(2, activation='softmax'))\n",
        "model2.summary()"
      ],
      "execution_count": 44,
      "outputs": [
        {
          "output_type": "stream",
          "text": [
            "Model: \"sequential\"\n",
            "_________________________________________________________________\n",
            "Layer (type)                 Output Shape              Param #   \n",
            "=================================================================\n",
            "conv2d (Conv2D)              (None, 252, 252, 50)      1300      \n",
            "_________________________________________________________________\n",
            "max_pooling2d (MaxPooling2D) (None, 84, 84, 50)        0         \n",
            "_________________________________________________________________\n",
            "conv2d_1 (Conv2D)            (None, 81, 81, 30)        24030     \n",
            "_________________________________________________________________\n",
            "max_pooling2d_1 (MaxPooling2 (None, 40, 40, 30)        0         \n",
            "_________________________________________________________________\n",
            "flatten (Flatten)            (None, 48000)             0         \n",
            "_________________________________________________________________\n",
            "dense (Dense)                (None, 2)                 96002     \n",
            "=================================================================\n",
            "Total params: 121,332\n",
            "Trainable params: 121,332\n",
            "Non-trainable params: 0\n",
            "_________________________________________________________________\n"
          ],
          "name": "stdout"
        }
      ]
    },
    {
      "cell_type": "code",
      "metadata": {
        "colab": {
          "base_uri": "https://localhost:8080/"
        },
        "id": "AWZGQDRGblx8",
        "outputId": "a3743b0b-1397-44af-986e-4c0f8176859b"
      },
      "source": [
        "model2.compile(loss='categorical_crossentropy',\n",
        "              optimizer=Adam(),\n",
        "              metrics=['accuracy'])\n",
        "history = model2.fit(input_train, output_train,\n",
        "                    batch_size=batch_size,\n",
        "                    epochs=epochs,\n",
        "                    verbose=1,\n",
        "                    validation_data=(input_test, output_test))"
      ],
      "execution_count": 45,
      "outputs": [
        {
          "output_type": "stream",
          "text": [
            "Epoch 1/40\n",
            "5/5 [==============================] - 8s 1s/step - loss: 0.7101 - accuracy: 0.5100 - val_loss: 0.6968 - val_accuracy: 0.4000\n",
            "Epoch 2/40\n",
            "5/5 [==============================] - 7s 1s/step - loss: 0.6287 - accuracy: 0.5468 - val_loss: 0.5948 - val_accuracy: 0.8000\n",
            "Epoch 3/40\n",
            "5/5 [==============================] - 7s 1s/step - loss: 0.4957 - accuracy: 0.8725 - val_loss: 0.5255 - val_accuracy: 0.8000\n",
            "Epoch 4/40\n",
            "5/5 [==============================] - 7s 1s/step - loss: 0.2935 - accuracy: 0.9403 - val_loss: 0.5682 - val_accuracy: 0.7000\n",
            "Epoch 5/40\n",
            "5/5 [==============================] - 7s 1s/step - loss: 0.2050 - accuracy: 0.9271 - val_loss: 0.3240 - val_accuracy: 0.9000\n",
            "Epoch 6/40\n",
            "5/5 [==============================] - 7s 1s/step - loss: 0.0828 - accuracy: 0.9836 - val_loss: 0.5585 - val_accuracy: 0.7000\n",
            "Epoch 7/40\n",
            "5/5 [==============================] - 7s 1s/step - loss: 0.0480 - accuracy: 0.9856 - val_loss: 0.8134 - val_accuracy: 0.7000\n",
            "Epoch 8/40\n",
            "5/5 [==============================] - 7s 1s/step - loss: 0.0345 - accuracy: 1.0000 - val_loss: 0.6136 - val_accuracy: 0.8000\n",
            "Epoch 9/40\n",
            "5/5 [==============================] - 7s 1s/step - loss: 0.0252 - accuracy: 1.0000 - val_loss: 0.4547 - val_accuracy: 0.9000\n",
            "Epoch 10/40\n",
            "5/5 [==============================] - 7s 1s/step - loss: 0.0110 - accuracy: 1.0000 - val_loss: 1.1958 - val_accuracy: 0.7000\n",
            "Epoch 11/40\n",
            "5/5 [==============================] - 7s 1s/step - loss: 0.0070 - accuracy: 1.0000 - val_loss: 1.1640 - val_accuracy: 0.7000\n",
            "Epoch 12/40\n",
            "5/5 [==============================] - 7s 1s/step - loss: 0.0032 - accuracy: 1.0000 - val_loss: 0.8301 - val_accuracy: 0.8000\n",
            "Epoch 13/40\n",
            "5/5 [==============================] - 7s 1s/step - loss: 0.0023 - accuracy: 1.0000 - val_loss: 0.7963 - val_accuracy: 0.8000\n",
            "Epoch 14/40\n",
            "5/5 [==============================] - 7s 1s/step - loss: 0.0019 - accuracy: 1.0000 - val_loss: 0.9921 - val_accuracy: 0.8000\n",
            "Epoch 15/40\n",
            "5/5 [==============================] - 7s 1s/step - loss: 0.0010 - accuracy: 1.0000 - val_loss: 1.1526 - val_accuracy: 0.8000\n",
            "Epoch 16/40\n",
            "5/5 [==============================] - 7s 1s/step - loss: 9.2175e-04 - accuracy: 1.0000 - val_loss: 1.1811 - val_accuracy: 0.8000\n",
            "Epoch 17/40\n",
            "5/5 [==============================] - 7s 1s/step - loss: 7.2133e-04 - accuracy: 1.0000 - val_loss: 1.0985 - val_accuracy: 0.8000\n",
            "Epoch 18/40\n",
            "5/5 [==============================] - 7s 1s/step - loss: 6.3729e-04 - accuracy: 1.0000 - val_loss: 1.0101 - val_accuracy: 0.8000\n",
            "Epoch 19/40\n",
            "5/5 [==============================] - 7s 1s/step - loss: 7.0487e-04 - accuracy: 1.0000 - val_loss: 1.0015 - val_accuracy: 0.8000\n",
            "Epoch 20/40\n",
            "5/5 [==============================] - 7s 1s/step - loss: 5.3463e-04 - accuracy: 1.0000 - val_loss: 1.0157 - val_accuracy: 0.8000\n",
            "Epoch 21/40\n",
            "5/5 [==============================] - 7s 1s/step - loss: 4.9448e-04 - accuracy: 1.0000 - val_loss: 1.0477 - val_accuracy: 0.8000\n",
            "Epoch 22/40\n",
            "5/5 [==============================] - 7s 1s/step - loss: 4.3435e-04 - accuracy: 1.0000 - val_loss: 1.0778 - val_accuracy: 0.8000\n",
            "Epoch 23/40\n",
            "5/5 [==============================] - 7s 1s/step - loss: 4.2913e-04 - accuracy: 1.0000 - val_loss: 1.0866 - val_accuracy: 0.8000\n",
            "Epoch 24/40\n",
            "5/5 [==============================] - 7s 1s/step - loss: 3.8441e-04 - accuracy: 1.0000 - val_loss: 1.0967 - val_accuracy: 0.8000\n",
            "Epoch 25/40\n",
            "5/5 [==============================] - 7s 1s/step - loss: 4.1950e-04 - accuracy: 1.0000 - val_loss: 1.0914 - val_accuracy: 0.8000\n",
            "Epoch 26/40\n",
            "5/5 [==============================] - 7s 1s/step - loss: 4.1894e-04 - accuracy: 1.0000 - val_loss: 1.0906 - val_accuracy: 0.8000\n",
            "Epoch 27/40\n",
            "5/5 [==============================] - 7s 1s/step - loss: 3.8615e-04 - accuracy: 1.0000 - val_loss: 1.0894 - val_accuracy: 0.8000\n",
            "Epoch 28/40\n",
            "5/5 [==============================] - 7s 1s/step - loss: 3.6611e-04 - accuracy: 1.0000 - val_loss: 1.0930 - val_accuracy: 0.8000\n",
            "Epoch 29/40\n",
            "5/5 [==============================] - 7s 1s/step - loss: 3.3328e-04 - accuracy: 1.0000 - val_loss: 1.0940 - val_accuracy: 0.8000\n",
            "Epoch 30/40\n",
            "5/5 [==============================] - 7s 1s/step - loss: 3.0804e-04 - accuracy: 1.0000 - val_loss: 1.1103 - val_accuracy: 0.8000\n",
            "Epoch 31/40\n",
            "5/5 [==============================] - 7s 1s/step - loss: 2.6715e-04 - accuracy: 1.0000 - val_loss: 1.1116 - val_accuracy: 0.8000\n",
            "Epoch 32/40\n",
            "5/5 [==============================] - 7s 1s/step - loss: 2.7575e-04 - accuracy: 1.0000 - val_loss: 1.1262 - val_accuracy: 0.8000\n",
            "Epoch 33/40\n",
            "5/5 [==============================] - 7s 1s/step - loss: 2.2366e-04 - accuracy: 1.0000 - val_loss: 1.1373 - val_accuracy: 0.8000\n",
            "Epoch 34/40\n",
            "5/5 [==============================] - 7s 1s/step - loss: 2.1338e-04 - accuracy: 1.0000 - val_loss: 1.1419 - val_accuracy: 0.8000\n",
            "Epoch 35/40\n",
            "5/5 [==============================] - 7s 1s/step - loss: 2.7767e-04 - accuracy: 1.0000 - val_loss: 1.1297 - val_accuracy: 0.8000\n",
            "Epoch 36/40\n",
            "5/5 [==============================] - 7s 1s/step - loss: 2.1283e-04 - accuracy: 1.0000 - val_loss: 1.1272 - val_accuracy: 0.8000\n",
            "Epoch 37/40\n",
            "5/5 [==============================] - 7s 1s/step - loss: 2.0899e-04 - accuracy: 1.0000 - val_loss: 1.1247 - val_accuracy: 0.8000\n",
            "Epoch 38/40\n",
            "5/5 [==============================] - 7s 1s/step - loss: 2.1958e-04 - accuracy: 1.0000 - val_loss: 1.1329 - val_accuracy: 0.8000\n",
            "Epoch 39/40\n",
            "5/5 [==============================] - 7s 1s/step - loss: 2.2642e-04 - accuracy: 1.0000 - val_loss: 1.1388 - val_accuracy: 0.8000\n",
            "Epoch 40/40\n",
            "5/5 [==============================] - 7s 1s/step - loss: 2.1679e-04 - accuracy: 1.0000 - val_loss: 1.1408 - val_accuracy: 0.8000\n"
          ],
          "name": "stdout"
        }
      ]
    },
    {
      "cell_type": "code",
      "metadata": {
        "colab": {
          "base_uri": "https://localhost:8080/"
        },
        "id": "JQ6yncKRbml8",
        "outputId": "d4087e8b-54ff-4fb6-87e7-beba591ecc48"
      },
      "source": [
        "score = model2.evaluate(input_test, output_test, verbose=0)\n",
        "score"
      ],
      "execution_count": 46,
      "outputs": [
        {
          "output_type": "execute_result",
          "data": {
            "text/plain": [
              "[1.1407878398895264, 0.800000011920929]"
            ]
          },
          "metadata": {
            "tags": []
          },
          "execution_count": 46
        }
      ]
    }
  ]
}