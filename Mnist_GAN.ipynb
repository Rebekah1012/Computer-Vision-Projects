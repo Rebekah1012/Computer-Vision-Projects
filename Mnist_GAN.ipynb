{
  "nbformat": 4,
  "nbformat_minor": 0,
  "metadata": {
    "colab": {
      "name": "Mnist_GAN.ipynb",
      "provenance": [],
      "collapsed_sections": []
    },
    "kernelspec": {
      "name": "python3",
      "display_name": "Python 3"
    },
    "language_info": {
      "name": "python"
    },
    "accelerator": "TPU"
  },
  "cells": [
    {
      "cell_type": "code",
      "metadata": {
        "id": "OBZKD-xkovkq"
      },
      "source": [
        "import tensorflow as tf"
      ],
      "execution_count": 2,
      "outputs": []
    },
    {
      "cell_type": "code",
      "metadata": {
        "colab": {
          "base_uri": "https://localhost:8080/",
          "height": 35
        },
        "id": "G_Ye9gP2o0lQ",
        "outputId": "e44224a3-8242-40d7-9027-c79129e9336a"
      },
      "source": [
        "tf.__version__"
      ],
      "execution_count": 3,
      "outputs": [
        {
          "output_type": "execute_result",
          "data": {
            "application/vnd.google.colaboratory.intrinsic+json": {
              "type": "string"
            },
            "text/plain": [
              "'2.4.1'"
            ]
          },
          "metadata": {
            "tags": []
          },
          "execution_count": 3
        }
      ]
    },
    {
      "cell_type": "code",
      "metadata": {
        "colab": {
          "base_uri": "https://localhost:8080/"
        },
        "id": "57eymCb4o3FV",
        "outputId": "7461cd5d-8f4a-4f5a-a9ee-37fd7ac87c8b"
      },
      "source": [
        "# To generate GIFs\n",
        "!pip install -q imageio\n",
        "!pip install -q git+https://github.com/tensorflow/docs"
      ],
      "execution_count": 4,
      "outputs": [
        {
          "output_type": "stream",
          "text": [
            "\u001b[?25l\r\u001b[K     |▎                               | 10kB 12.5MB/s eta 0:00:01\r\u001b[K     |▋                               | 20kB 18.2MB/s eta 0:00:01\r\u001b[K     |█                               | 30kB 11.8MB/s eta 0:00:01\r\u001b[K     |█▎                              | 40kB 9.4MB/s eta 0:00:01\r\u001b[K     |█▋                              | 51kB 5.5MB/s eta 0:00:01\r\u001b[K     |██                              | 61kB 5.2MB/s eta 0:00:01\r\u001b[K     |██▎                             | 71kB 5.8MB/s eta 0:00:01\r\u001b[K     |██▋                             | 81kB 6.5MB/s eta 0:00:01\r\u001b[K     |██▉                             | 92kB 6.6MB/s eta 0:00:01\r\u001b[K     |███▏                            | 102kB 6.9MB/s eta 0:00:01\r\u001b[K     |███▌                            | 112kB 6.9MB/s eta 0:00:01\r\u001b[K     |███▉                            | 122kB 6.9MB/s eta 0:00:01\r\u001b[K     |████▏                           | 133kB 6.9MB/s eta 0:00:01\r\u001b[K     |████▌                           | 143kB 6.9MB/s eta 0:00:01\r\u001b[K     |████▉                           | 153kB 6.9MB/s eta 0:00:01\r\u001b[K     |█████▏                          | 163kB 6.9MB/s eta 0:00:01\r\u001b[K     |█████▌                          | 174kB 6.9MB/s eta 0:00:01\r\u001b[K     |█████▊                          | 184kB 6.9MB/s eta 0:00:01\r\u001b[K     |██████                          | 194kB 6.9MB/s eta 0:00:01\r\u001b[K     |██████▍                         | 204kB 6.9MB/s eta 0:00:01\r\u001b[K     |██████▊                         | 215kB 6.9MB/s eta 0:00:01\r\u001b[K     |███████                         | 225kB 6.9MB/s eta 0:00:01\r\u001b[K     |███████▍                        | 235kB 6.9MB/s eta 0:00:01\r\u001b[K     |███████▊                        | 245kB 6.9MB/s eta 0:00:01\r\u001b[K     |████████                        | 256kB 6.9MB/s eta 0:00:01\r\u001b[K     |████████▎                       | 266kB 6.9MB/s eta 0:00:01\r\u001b[K     |████████▋                       | 276kB 6.9MB/s eta 0:00:01\r\u001b[K     |█████████                       | 286kB 6.9MB/s eta 0:00:01\r\u001b[K     |█████████▎                      | 296kB 6.9MB/s eta 0:00:01\r\u001b[K     |█████████▋                      | 307kB 6.9MB/s eta 0:00:01\r\u001b[K     |██████████                      | 317kB 6.9MB/s eta 0:00:01\r\u001b[K     |██████████▎                     | 327kB 6.9MB/s eta 0:00:01\r\u001b[K     |██████████▋                     | 337kB 6.9MB/s eta 0:00:01\r\u001b[K     |███████████                     | 348kB 6.9MB/s eta 0:00:01\r\u001b[K     |███████████▏                    | 358kB 6.9MB/s eta 0:00:01\r\u001b[K     |███████████▌                    | 368kB 6.9MB/s eta 0:00:01\r\u001b[K     |███████████▉                    | 378kB 6.9MB/s eta 0:00:01\r\u001b[K     |████████████▏                   | 389kB 6.9MB/s eta 0:00:01\r\u001b[K     |████████████▌                   | 399kB 6.9MB/s eta 0:00:01\r\u001b[K     |████████████▉                   | 409kB 6.9MB/s eta 0:00:01\r\u001b[K     |█████████████▏                  | 419kB 6.9MB/s eta 0:00:01\r\u001b[K     |█████████████▌                  | 430kB 6.9MB/s eta 0:00:01\r\u001b[K     |█████████████▉                  | 440kB 6.9MB/s eta 0:00:01\r\u001b[K     |██████████████                  | 450kB 6.9MB/s eta 0:00:01\r\u001b[K     |██████████████▍                 | 460kB 6.9MB/s eta 0:00:01\r\u001b[K     |██████████████▊                 | 471kB 6.9MB/s eta 0:00:01\r\u001b[K     |███████████████                 | 481kB 6.9MB/s eta 0:00:01\r\u001b[K     |███████████████▍                | 491kB 6.9MB/s eta 0:00:01\r\u001b[K     |███████████████▊                | 501kB 6.9MB/s eta 0:00:01\r\u001b[K     |████████████████                | 512kB 6.9MB/s eta 0:00:01\r\u001b[K     |████████████████▍               | 522kB 6.9MB/s eta 0:00:01\r\u001b[K     |████████████████▋               | 532kB 6.9MB/s eta 0:00:01\r\u001b[K     |█████████████████               | 542kB 6.9MB/s eta 0:00:01\r\u001b[K     |█████████████████▎              | 552kB 6.9MB/s eta 0:00:01\r\u001b[K     |█████████████████▋              | 563kB 6.9MB/s eta 0:00:01\r\u001b[K     |██████████████████              | 573kB 6.9MB/s eta 0:00:01\r\u001b[K     |██████████████████▎             | 583kB 6.9MB/s eta 0:00:01\r\u001b[K     |██████████████████▋             | 593kB 6.9MB/s eta 0:00:01\r\u001b[K     |███████████████████             | 604kB 6.9MB/s eta 0:00:01\r\u001b[K     |███████████████████▎            | 614kB 6.9MB/s eta 0:00:01\r\u001b[K     |███████████████████▌            | 624kB 6.9MB/s eta 0:00:01\r\u001b[K     |███████████████████▉            | 634kB 6.9MB/s eta 0:00:01\r\u001b[K     |████████████████████▏           | 645kB 6.9MB/s eta 0:00:01\r\u001b[K     |████████████████████▌           | 655kB 6.9MB/s eta 0:00:01\r\u001b[K     |████████████████████▉           | 665kB 6.9MB/s eta 0:00:01\r\u001b[K     |█████████████████████▏          | 675kB 6.9MB/s eta 0:00:01\r\u001b[K     |█████████████████████▌          | 686kB 6.9MB/s eta 0:00:01\r\u001b[K     |█████████████████████▉          | 696kB 6.9MB/s eta 0:00:01\r\u001b[K     |██████████████████████          | 706kB 6.9MB/s eta 0:00:01\r\u001b[K     |██████████████████████▍         | 716kB 6.9MB/s eta 0:00:01\r\u001b[K     |██████████████████████▊         | 727kB 6.9MB/s eta 0:00:01\r\u001b[K     |███████████████████████         | 737kB 6.9MB/s eta 0:00:01\r\u001b[K     |███████████████████████▍        | 747kB 6.9MB/s eta 0:00:01\r\u001b[K     |███████████████████████▊        | 757kB 6.9MB/s eta 0:00:01\r\u001b[K     |████████████████████████        | 768kB 6.9MB/s eta 0:00:01\r\u001b[K     |████████████████████████▍       | 778kB 6.9MB/s eta 0:00:01\r\u001b[K     |████████████████████████▊       | 788kB 6.9MB/s eta 0:00:01\r\u001b[K     |█████████████████████████       | 798kB 6.9MB/s eta 0:00:01\r\u001b[K     |█████████████████████████▎      | 808kB 6.9MB/s eta 0:00:01\r\u001b[K     |█████████████████████████▋      | 819kB 6.9MB/s eta 0:00:01\r\u001b[K     |██████████████████████████      | 829kB 6.9MB/s eta 0:00:01\r\u001b[K     |██████████████████████████▎     | 839kB 6.9MB/s eta 0:00:01\r\u001b[K     |██████████████████████████▋     | 849kB 6.9MB/s eta 0:00:01\r\u001b[K     |███████████████████████████     | 860kB 6.9MB/s eta 0:00:01\r\u001b[K     |███████████████████████████▎    | 870kB 6.9MB/s eta 0:00:01\r\u001b[K     |███████████████████████████▋    | 880kB 6.9MB/s eta 0:00:01\r\u001b[K     |███████████████████████████▉    | 890kB 6.9MB/s eta 0:00:01\r\u001b[K     |████████████████████████████▏   | 901kB 6.9MB/s eta 0:00:01\r\u001b[K     |████████████████████████████▌   | 911kB 6.9MB/s eta 0:00:01\r\u001b[K     |████████████████████████████▉   | 921kB 6.9MB/s eta 0:00:01\r\u001b[K     |█████████████████████████████▏  | 931kB 6.9MB/s eta 0:00:01\r\u001b[K     |█████████████████████████████▌  | 942kB 6.9MB/s eta 0:00:01\r\u001b[K     |█████████████████████████████▉  | 952kB 6.9MB/s eta 0:00:01\r\u001b[K     |██████████████████████████████▏ | 962kB 6.9MB/s eta 0:00:01\r\u001b[K     |██████████████████████████████▍ | 972kB 6.9MB/s eta 0:00:01\r\u001b[K     |██████████████████████████████▊ | 983kB 6.9MB/s eta 0:00:01\r\u001b[K     |███████████████████████████████ | 993kB 6.9MB/s eta 0:00:01\r\u001b[K     |███████████████████████████████▍| 1.0MB 6.9MB/s eta 0:00:01\r\u001b[K     |███████████████████████████████▊| 1.0MB 6.9MB/s eta 0:00:01\r\u001b[K     |████████████████████████████████| 1.0MB 6.9MB/s \n",
            "\u001b[?25h  Building wheel for tensorflow-docs (setup.py) ... \u001b[?25l\u001b[?25hdone\n"
          ],
          "name": "stdout"
        }
      ]
    },
    {
      "cell_type": "code",
      "metadata": {
        "id": "TpsBIVZnpKsY"
      },
      "source": [
        "import glob\n",
        "import imageio\n",
        "import matplotlib.pyplot as plt\n",
        "import numpy as np\n",
        "import os\n",
        "import PIL\n",
        "from tensorflow.keras import layers\n",
        "import time\n",
        "\n",
        "from IPython import display"
      ],
      "execution_count": 5,
      "outputs": []
    },
    {
      "cell_type": "code",
      "metadata": {
        "colab": {
          "base_uri": "https://localhost:8080/"
        },
        "id": "86kL74EVpRXN",
        "outputId": "b8215e9f-f1b6-4992-f3aa-f85f6793bb5f"
      },
      "source": [
        "(train_images, train_labels), (_, _) = tf.keras.datasets.mnist.load_data()"
      ],
      "execution_count": 6,
      "outputs": [
        {
          "output_type": "stream",
          "text": [
            "Downloading data from https://storage.googleapis.com/tensorflow/tf-keras-datasets/mnist.npz\n",
            "11493376/11490434 [==============================] - 0s 0us/step\n"
          ],
          "name": "stdout"
        }
      ]
    },
    {
      "cell_type": "code",
      "metadata": {
        "colab": {
          "base_uri": "https://localhost:8080/"
        },
        "id": "7sk2YGm2pXgb",
        "outputId": "0244c5dc-1dfe-4eb2-e6e3-64c57aea097c"
      },
      "source": [
        "train_images.shape"
      ],
      "execution_count": 7,
      "outputs": [
        {
          "output_type": "execute_result",
          "data": {
            "text/plain": [
              "(60000, 28, 28)"
            ]
          },
          "metadata": {
            "tags": []
          },
          "execution_count": 7
        }
      ]
    },
    {
      "cell_type": "code",
      "metadata": {
        "id": "ZFswZXXVpT9R"
      },
      "source": [
        "train_images = train_images.reshape(train_images.shape[0], 28, 28, 1).astype('float32')\n",
        "train_images = (train_images - 127.5) / 127.5  # Normalize the images to [-1, 1]"
      ],
      "execution_count": 8,
      "outputs": []
    },
    {
      "cell_type": "code",
      "metadata": {
        "id": "3Lmy0Eb-pgeC"
      },
      "source": [
        "BUFFER_SIZE = 60000\n",
        "BATCH_SIZE = 256"
      ],
      "execution_count": 9,
      "outputs": []
    },
    {
      "cell_type": "code",
      "metadata": {
        "id": "DJzgC-0OpiVD"
      },
      "source": [
        "# Batch and shuffle the data\n",
        "train_dataset = tf.data.Dataset.from_tensor_slices(train_images).shuffle(BUFFER_SIZE).batch(BATCH_SIZE)"
      ],
      "execution_count": 10,
      "outputs": []
    },
    {
      "cell_type": "code",
      "metadata": {
        "id": "hrwUywuKpqFZ"
      },
      "source": [
        "def make_generator_model():\n",
        "    model = tf.keras.Sequential()\n",
        "    model.add(layers.Dense(7*7*256, use_bias=False, input_shape=(100,)))\n",
        "    model.add(layers.BatchNormalization())\n",
        "    model.add(layers.LeakyReLU())\n",
        "\n",
        "    model.add(layers.Reshape((7, 7, 256)))\n",
        "    assert model.output_shape == (None, 7, 7, 256)  # Note: None is the batch size\n",
        "\n",
        "    model.add(layers.Conv2DTranspose(128, (5, 5), strides=(1, 1), padding='same', use_bias=False))\n",
        "    assert model.output_shape == (None, 7, 7, 128)\n",
        "    model.add(layers.BatchNormalization())\n",
        "    model.add(layers.LeakyReLU())\n",
        "\n",
        "    model.add(layers.Conv2DTranspose(64, (5, 5), strides=(2, 2), padding='same', use_bias=False))\n",
        "    assert model.output_shape == (None, 14, 14, 64)\n",
        "    model.add(layers.BatchNormalization())\n",
        "    model.add(layers.LeakyReLU())\n",
        "\n",
        "    model.add(layers.Conv2DTranspose(1, (5, 5), strides=(2, 2), padding='same', use_bias=False, activation='tanh'))\n",
        "    assert model.output_shape == (None, 28, 28, 1)\n",
        "\n",
        "    return model"
      ],
      "execution_count": 11,
      "outputs": []
    },
    {
      "cell_type": "code",
      "metadata": {
        "colab": {
          "base_uri": "https://localhost:8080/",
          "height": 282
        },
        "id": "wxRant-spvkf",
        "outputId": "ec851e3b-8a67-4933-a2d5-8703e484a359"
      },
      "source": [
        "generator = make_generator_model()\n",
        "\n",
        "noise = tf.random.normal([1, 100])\n",
        "generated_image = generator(noise, training=False)\n",
        "\n",
        "plt.imshow(generated_image[0, :, :, 0], cmap='gray')"
      ],
      "execution_count": 12,
      "outputs": [
        {
          "output_type": "execute_result",
          "data": {
            "text/plain": [
              "<matplotlib.image.AxesImage at 0x7fb674dde450>"
            ]
          },
          "metadata": {
            "tags": []
          },
          "execution_count": 12
        },
        {
          "output_type": "display_data",
          "data": {
            "image/png": "[encoded data removed]",
            "text/plain": [
              "<Figure size 432x288 with 1 Axes>"
            ]
          },
          "metadata": {
            "tags": [],
            "needs_background": "light"
          }
        }
      ]
    },
    {
      "cell_type": "code",
      "metadata": {
        "id": "LD6XFhNGpxou"
      },
      "source": [
        "def make_discriminator_model():\n",
        "    model = tf.keras.Sequential()\n",
        "    model.add(layers.Conv2D(64, (5, 5), strides=(2, 2), padding='same',\n",
        "                                     input_shape=[28, 28, 1]))\n",
        "    model.add(layers.LeakyReLU())\n",
        "    model.add(layers.Dropout(0.3))\n",
        "\n",
        "    model.add(layers.Conv2D(128, (5, 5), strides=(2, 2), padding='same'))\n",
        "    model.add(layers.LeakyReLU())\n",
        "    model.add(layers.Dropout(0.3))\n",
        "\n",
        "    model.add(layers.Flatten())\n",
        "    model.add(layers.Dense(1))\n",
        "\n",
        "    return model"
      ],
      "execution_count": 13,
      "outputs": []
    },
    {
      "cell_type": "code",
      "metadata": {
        "colab": {
          "base_uri": "https://localhost:8080/"
        },
        "id": "f5VoQeQ_p0L8",
        "outputId": "913648d4-238d-46d0-d68e-a66e704f3cb8"
      },
      "source": [
        "discriminator = make_discriminator_model()\n",
        "decision = discriminator(generated_image)\n",
        "print (decision)"
      ],
      "execution_count": 14,
      "outputs": [
        {
          "output_type": "stream",
          "text": [
            "tf.Tensor([[-0.00376781]], shape=(1, 1), dtype=float32)\n"
          ],
          "name": "stdout"
        }
      ]
    },
    {
      "cell_type": "code",
      "metadata": {
        "id": "cldqYKJvp1_2"
      },
      "source": [
        "# This method returns a helper function to compute cross entropy loss\n",
        "cross_entropy = tf.keras.losses.BinaryCrossentropy(from_logits=True)"
      ],
      "execution_count": 15,
      "outputs": []
    },
    {
      "cell_type": "code",
      "metadata": {
        "id": "RgGIaMoWp4P5"
      },
      "source": [
        "def discriminator_loss(real_output, fake_output):\n",
        "    real_loss = cross_entropy(tf.ones_like(real_output), real_output)\n",
        "    fake_loss = cross_entropy(tf.zeros_like(fake_output), fake_output)\n",
        "    total_loss = real_loss + fake_loss\n",
        "    return total_loss"
      ],
      "execution_count": 16,
      "outputs": []
    },
    {
      "cell_type": "code",
      "metadata": {
        "id": "se4Uwz6Vp6Uh"
      },
      "source": [
        "def generator_loss(fake_output):\n",
        "    return cross_entropy(tf.ones_like(fake_output), fake_output)"
      ],
      "execution_count": 17,
      "outputs": []
    },
    {
      "cell_type": "code",
      "metadata": {
        "id": "OU47sTwIp7oo"
      },
      "source": [
        "generator_optimizer = tf.keras.optimizers.Adam(1e-4)\n",
        "discriminator_optimizer = tf.keras.optimizers.Adam(1e-4)"
      ],
      "execution_count": 18,
      "outputs": []
    },
    {
      "cell_type": "code",
      "metadata": {
        "id": "hcyuaJ4Tp9ct"
      },
      "source": [
        "checkpoint_dir = '.contents/drive/Mydrive/Datasets/mnist_Workspace/training_checkpoints'\n",
        "checkpoint_prefix = os.path.join(checkpoint_dir, \"ckpt\")\n",
        "checkpoint = tf.train.Checkpoint(generator_optimizer=generator_optimizer,\n",
        "                                 discriminator_optimizer=discriminator_optimizer,\n",
        "                                 generator=generator,\n",
        "                                 discriminator=discriminator)"
      ],
      "execution_count": 19,
      "outputs": []
    },
    {
      "cell_type": "code",
      "metadata": {
        "id": "6RdixOAlp_fF"
      },
      "source": [
        "EPOCHS = 50\n",
        "noise_dim = 100\n",
        "num_examples_to_generate = 16\n",
        "\n",
        "# You will reuse this seed overtime (so it's easier)\n",
        "# to visualize progress in the animated GIF)\n",
        "seed = tf.random.normal([num_examples_to_generate, noise_dim])"
      ],
      "execution_count": 20,
      "outputs": []
    },
    {
      "cell_type": "code",
      "metadata": {
        "id": "9rCxi--fqBYp"
      },
      "source": [
        "# Notice the use of `tf.function`\n",
        "# This annotation causes the function to be \"compiled\".\n",
        "@tf.function\n",
        "def train_step(images):\n",
        "    noise = tf.random.normal([BATCH_SIZE, noise_dim])\n",
        "\n",
        "    with tf.GradientTape() as gen_tape, tf.GradientTape() as disc_tape:\n",
        "      generated_images = generator(noise, training=True)\n",
        "\n",
        "      real_output = discriminator(images, training=True)\n",
        "      fake_output = discriminator(generated_images, training=True)\n",
        "\n",
        "      gen_loss = generator_loss(fake_output)\n",
        "      disc_loss = discriminator_loss(real_output, fake_output)\n",
        "\n",
        "    gradients_of_generator = gen_tape.gradient(gen_loss, generator.trainable_variables)\n",
        "    gradients_of_discriminator = disc_tape.gradient(disc_loss, discriminator.trainable_variables)\n",
        "\n",
        "    generator_optimizer.apply_gradients(zip(gradients_of_generator, generator.trainable_variables))\n",
        "    discriminator_optimizer.apply_gradients(zip(gradients_of_discriminator, discriminator.trainable_variables))"
      ],
      "execution_count": 21,
      "outputs": []
    },
    {
      "cell_type": "code",
      "metadata": {
        "id": "xHdQI4f8qDKj"
      },
      "source": [
        "def train(dataset, epochs):\n",
        "  for epoch in range(epochs):\n",
        "    start = time.time()\n",
        "\n",
        "    for image_batch in dataset:\n",
        "      train_step(image_batch)\n",
        "\n",
        "    # Produce images for the GIF as you go\n",
        "    display.clear_output(wait=True)\n",
        "    generate_and_save_images(generator,\n",
        "                             epoch + 1,\n",
        "                             seed)\n",
        "\n",
        "    # Save the model every 15 epochs\n",
        "    if (epoch + 1) % 15 == 0:\n",
        "      checkpoint.save(file_prefix = checkpoint_prefix)\n",
        "\n",
        "    print ('Time for epoch {} is {} sec'.format(epoch + 1, time.time()-start))\n",
        "\n",
        "  # Generate after the final epoch\n",
        "  display.clear_output(wait=True)\n",
        "  generate_and_save_images(generator,\n",
        "                           epochs,\n",
        "                           seed)"
      ],
      "execution_count": 22,
      "outputs": []
    },
    {
      "cell_type": "code",
      "metadata": {
        "id": "-AjhbrDDqFoA"
      },
      "source": [
        "def generate_and_save_images(model, epoch, test_input):\n",
        "  # Notice `training` is set to False.\n",
        "  # This is so all layers run in inference mode (batchnorm).\n",
        "  predictions = model(test_input, training=False)\n",
        "\n",
        "  fig = plt.figure(figsize=(4, 4))\n",
        "\n",
        "  for i in range(predictions.shape[0]):\n",
        "      plt.subplot(4, 4, i+1)\n",
        "      plt.imshow(predictions[i, :, :, 0] * 127.5 + 127.5, cmap='gray')\n",
        "      plt.axis('off')\n",
        "\n",
        "  plt.savefig('image_at_epoch_{:04d}.png'.format(epoch))\n",
        "  plt.show()"
      ],
      "execution_count": 23,
      "outputs": []
    },
    {
      "cell_type": "code",
      "metadata": {
        "colab": {
          "base_uri": "https://localhost:8080/",
          "height": 265
        },
        "id": "p-GTTsVmqIKK",
        "outputId": "61ae298d-c604-420a-ad75-a628b5cc4f9e"
      },
      "source": [
        "train(train_dataset, EPOCHS)"
      ],
      "execution_count": null,
      "outputs": [
        {
          "output_type": "display_data",
          "data": {
            "image/png": "[encoded data removed]",
            "text/plain": [
              "<Figure size 288x288 with 16 Axes>"
            ]
          },
          "metadata": {
            "tags": [],
            "needs_background": "light"
          }
        },
        {
          "output_type": "stream",
          "text": [
            "Time for epoch 7 is 728.9831326007843 sec\n"
          ],
          "name": "stdout"
        }
      ]
    },
    {
      "cell_type": "code",
      "metadata": {
        "id": "WBx4-sonqKlT"
      },
      "source": [
        "checkpoint.restore(tf.train.latest_checkpoint(checkpoint_dir))"
      ],
      "execution_count": null,
      "outputs": []
    },
    {
      "cell_type": "code",
      "metadata": {
        "id": "h-irLtKDqP2_"
      },
      "source": [
        "# Display a single image using the epoch number\n",
        "def display_image(epoch_no):\n",
        "  return PIL.Image.open('image_at_epoch_{:04d}.png'.format(epoch_no))"
      ],
      "execution_count": null,
      "outputs": []
    },
    {
      "cell_type": "code",
      "metadata": {
        "id": "Tq2AB4BzqRag"
      },
      "source": [
        "display_image(EPOCHS)"
      ],
      "execution_count": null,
      "outputs": []
    },
    {
      "cell_type": "code",
      "metadata": {
        "id": "ZSaYJVmYqThx"
      },
      "source": [
        "anim_file = 'dcgan.gif'\n",
        "\n",
        "with imageio.get_writer(anim_file, mode='I') as writer:\n",
        "  filenames = glob.glob('image*.png')\n",
        "  filenames = sorted(filenames)\n",
        "  for filename in filenames:\n",
        "    image = imageio.imread(filename)\n",
        "    writer.append_data(image)\n",
        "  image = imageio.imread(filename)\n",
        "  writer.append_data(image)"
      ],
      "execution_count": null,
      "outputs": []
    },
    {
      "cell_type": "code",
      "metadata": {
        "id": "CK_hK-wpqVxz"
      },
      "source": [
        "import tensorflow_docs.vis.embed as embed\n",
        "embed.embed_file(anim_file)"
      ],
      "execution_count": null,
      "outputs": []
    },
    {
      "cell_type": "code",
      "metadata": {
        "id": "Lk7n0Q2fqXbu"
      },
      "source": [
        ""
      ],
      "execution_count": null,
      "outputs": []
    }
  ]
}